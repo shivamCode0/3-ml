{
 "cells": [
  {
   "cell_type": "code",
   "execution_count": 2,
   "metadata": {},
   "outputs": [],
   "source": [
    "import torch\n",
    "from datasets import load_dataset\n",
    "from transformers import TextDataset, Trainer, TrainingArguments, DataCollatorForLanguageModeling, GPT2LMHeadModel, GPT2Tokenizer, GPT2LMHeadModel, AdamW\n",
    "import os, sys, json\n",
    "from nanoid import generate\n",
    "import string\n",
    "from torch.utils.data import Dataset, DataLoader, random_split\n",
    "from torch.nn.utils.rnn import pad_sequence\n",
    "from tqdm.notebook import tqdm"
   ]
  },
  {
   "cell_type": "code",
   "execution_count": 10,
   "metadata": {},
   "outputs": [],
   "source": [
    "device = torch.device(\"cuda\" if torch.cuda.is_available() else \"cpu\")"
   ]
  },
  {
   "cell_type": "code",
   "execution_count": 3,
   "metadata": {},
   "outputs": [
    {
     "name": "stdout",
     "output_type": "stream",
     "text": [
      "DatasetDict({\n",
      "    train: Dataset({\n",
      "        features: ['content', 'date', 'username'],\n",
      "        num_rows: 2664797\n",
      "    })\n",
      "})\n",
      "Dataset({\n",
      "    features: ['content', 'date', 'username'],\n",
      "    num_rows: 10000\n",
      "})\n"
     ]
    }
   ],
   "source": [
    "# Load the dataset\n",
    "dataset = load_dataset(\"declip/Minecraft-Server-Chat\")\n",
    "\n",
    "\"\"\"\n",
    "DatasetDict({\n",
    "    train: Dataset({\n",
    "        features: ['content', 'date', 'username'],\n",
    "        num_rows: 2664797\n",
    "    })\n",
    "})\n",
    "\"\"\"\n",
    "# should print above\n",
    "print(dataset)\n",
    "dataset = dataset['train']\n",
    "\n",
    "# # Limit to the first 10,000 rows for initial testing\n",
    "dataset = dataset.select(range(10000))\n",
    "print(dataset)"
   ]
  },
  {
   "cell_type": "code",
   "execution_count": 4,
   "metadata": {},
   "outputs": [],
   "source": [
    "\"\"\"clean the data\n",
    "    - make content max 100 len and strip whitespace\n",
    "    - remove empty content\n",
    "    - anonymize usernames\n",
    "    - \n",
    "\"\"\"\n",
    "username_map = {}\n",
    "def get_anon_username(username):\n",
    "    if username not in username_map:\n",
    "        username_map[username] = f\"P{generate(string.digits, 5)}\"\n",
    "    return username_map[username]\n",
    "def clean_data(data):\n",
    "    data['content'] = data['content'][:100].rstrip()\n",
    "    if not data['content']:\n",
    "        return None\n",
    "    data['username'] = get_anon_username(data['username'])\n",
    "    return data\n"
   ]
  },
  {
   "cell_type": "code",
   "execution_count": 5,
   "metadata": {},
   "outputs": [],
   "source": [
    "# # Function to format the dataset\n",
    "def format_dataset(example):\n",
    "    example = clean_data(example)\n",
    "    if not example:\n",
    "        return None\n",
    "    return f\"{example['username']}: {example['content']}\"\n",
    "\n",
    "\n",
    "# Apply the formatting function to each row\n",
    "formatted_dataset = dataset.map(lambda x: {'text': format_dataset(x)}).filter(lambda x: \"text\" in x and x[\"text\"] is not None)\n",
    "\n",
    "# Concatenate all messages into a single text block, separated by newlines\n",
    "all_text = \"\\n\".join(formatted_dataset['text'])"
   ]
  },
  {
   "cell_type": "code",
   "execution_count": 6,
   "metadata": {},
   "outputs": [],
   "source": [
    "# write all_text to a data/minecraft_chat.txt file\n",
    "file_path = \"data/minecraft_chat.txt\"\n",
    "os.makedirs(\"data\", exist_ok=True)\n",
    "with open(file_path, \"w\") as f:\n",
    "    f.write(all_text)"
   ]
  },
  {
   "cell_type": "code",
   "execution_count": 19,
   "metadata": {},
   "outputs": [
    {
     "data": {
      "application/vnd.jupyter.widget-view+json": {
       "model_id": "84730089bc174fc6b324327284fa2913",
       "version_major": 2,
       "version_minor": 0
      },
      "text/plain": [
       "  0%|          | 0/10000 [00:00<?, ?it/s]"
      ]
     },
     "metadata": {},
     "output_type": "display_data"
    }
   ],
   "source": [
    "# Initialize the tokenizer\n",
    "tokenizer = GPT2Tokenizer.from_pretrained('distilgpt2')\n",
    "\n",
    "if tokenizer.pad_token is None:\n",
    "    tokenizer.pad_token = tokenizer.eos_token\n",
    "\n",
    "# Group lines until we reach a maximum of 1024 tokens\n",
    "max_length = 1024\n",
    "current_length = 0\n",
    "current_group = []\n",
    "grouped_lines = []\n",
    "\n",
    "for line in tqdm(all_text.split(\"\\n\")):\n",
    "    encoded_line = tokenizer.encode(line.strip())\n",
    "    if current_length + len(encoded_line) > max_length:\n",
    "        grouped_lines.append(current_group)\n",
    "        current_group = encoded_line\n",
    "        current_length = len(encoded_line)\n",
    "    else:\n",
    "        current_group.extend(encoded_line)\n",
    "        current_length += len(encoded_line)\n",
    "\n",
    "if current_group:\n",
    "    grouped_lines.append(current_group)\n",
    "\n",
    "# Custom Dataset\n",
    "class MinecraftChatDataset(Dataset):\n",
    "    def __init__(self, grouped_lines):\n",
    "        self.grouped_lines = grouped_lines\n",
    "    \n",
    "    def __len__(self):\n",
    "        return len(self.grouped_lines)\n",
    "    \n",
    "    def __getitem__(self, idx):\n",
    "        return torch.tensor(self.grouped_lines[idx], dtype=torch.long, device=device)\n",
    "\n",
    "# Create dataset and split into train and validation\n",
    "dataset = MinecraftChatDataset(grouped_lines)\n",
    "train_size = int(0.8 * len(dataset))\n",
    "val_size = len(dataset) - train_size\n",
    "train_dataset, val_dataset = random_split(dataset, [train_size, val_size])\n",
    "\n",
    "def collate_fn(batch):\n",
    "    input_ids = pad_sequence(batch, batch_first=True, padding_value=tokenizer.pad_token_id).to(device)\n",
    "    return input_ids, input_ids\n",
    "\n",
    "train_loader = DataLoader(train_dataset, batch_size=8, shuffle=True, collate_fn=collate_fn, generator=torch.Generator(device))\n",
    "val_loader = DataLoader(val_dataset, batch_size=8, shuffle=False, collate_fn=collate_fn, generator=torch.Generator(device))"
   ]
  },
  {
   "cell_type": "code",
   "execution_count": 21,
   "metadata": {},
   "outputs": [
    {
     "name": "stderr",
     "output_type": "stream",
     "text": [
      "c:\\Users\\shiva\\miniconda3\\envs\\ml2\\Lib\\site-packages\\transformers\\optimization.py:588: FutureWarning: This implementation of AdamW is deprecated and will be removed in a future version. Use the PyTorch implementation torch.optim.AdamW instead, or set `no_deprecation_warning=True` to disable this warning\n",
      "  warnings.warn(\n"
     ]
    },
    {
     "data": {
      "application/vnd.jupyter.widget-view+json": {
       "model_id": "03391ab2512942c2943f97006c0b7007",
       "version_major": 2,
       "version_minor": 0
      },
      "text/plain": [
       "  0%|          | 0/9 [00:00<?, ?it/s]"
      ]
     },
     "metadata": {},
     "output_type": "display_data"
    }
   ],
   "source": [
    "with torch.device(\"cuda\"):\n",
    "    # Load pre-trained GPT-2 model\n",
    "    model = GPT2LMHeadModel.from_pretrained('distilgpt2')\n",
    "    model.train()\n",
    "\n",
    "    # Training parameters\n",
    "    optimizer = torch.optim.AdamW(model.parameters(), lr=1e-4)\n",
    "\n",
    "    # Training loop\n",
    "    for epoch in range(3):  # Adjust the number of epochs as needed\n",
    "        for batch in tqdm(train_loader):\n",
    "            optimizer.zero_grad()\n",
    "            inputs, labels = batch\n",
    "            outputs = model(inputs, labels=labels)\n",
    "            loss = outputs.loss\n",
    "            loss.backward()\n",
    "            optimizer.step()\n",
    "            print(f\"Epoch: {epoch}, Loss: {loss.item()}\")\n",
    "\n",
    "        # Validation step (optional)\n",
    "        model.eval()\n",
    "        with torch.no_grad():\n",
    "            val_loss = 0\n",
    "            for batch in val_loader:\n",
    "                inputs, labels = batch\n",
    "                outputs = model(inputs, labels=labels)\n",
    "                val_loss += outputs.loss.item()\n",
    "            val_loss /= len(val_loader)\n",
    "            print(f\"Validation Loss: {val_loss}\")\n",
    "        model.train()\n",
    "\n",
    "    # Save the fine-tuned model\n",
    "    model.save_pretrained('fine_tuned_gpt2_minecraft')\n",
    "    tokenizer.save_pretrained('fine_tuned_gpt2_minecraft')"
   ]
  }
 ],
 "metadata": {
  "kernelspec": {
   "display_name": "ml2",
   "language": "python",
   "name": "python3"
  },
  "language_info": {
   "codemirror_mode": {
    "name": "ipython",
    "version": 3
   },
   "file_extension": ".py",
   "mimetype": "text/x-python",
   "name": "python",
   "nbconvert_exporter": "python",
   "pygments_lexer": "ipython3",
   "version": "3.12.3"
  }
 },
 "nbformat": 4,
 "nbformat_minor": 2
}
