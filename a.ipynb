{
 "cells": [
  {
   "cell_type": "code",
   "execution_count": 1,
   "metadata": {},
   "outputs": [],
   "source": [
    "def save_list(my_list, my_filename):\n",
    "    output_file = open(my_filename, \"w\")\n",
    "    for item in my_list:\n",
    "        output_file.write(item + \"\\n\")\n",
    "    output_file.close()\n",
    "\n",
    "def load_list(my_filename):\n",
    "    new_list = []\n",
    "    input_file = open(my_filename, \"r\")\n",
    "    for line in input_file:\n",
    "        new_list.append(line)\n",
    "    return new_list"
   ]
  },
  {
   "cell_type": "code",
   "execution_count": 2,
   "metadata": {},
   "outputs": [
    {
     "name": "stdout",
     "output_type": "stream",
     "text": [
      "['apple\\n', 'banana\\n', 'cherry\\n']\n"
     ]
    }
   ],
   "source": [
    "# try it out\n",
    "my_list = [\"apple\", \"banana\", \"cherry\"]\n",
    "save_list(my_list, \"my_list.txt\")\n",
    "new_list = load_list(\"my_list.txt\")\n",
    "print(new_list)"
   ]
  },
  {
   "cell_type": "code",
   "execution_count": 6,
   "metadata": {},
   "outputs": [
    {
     "ename": "ValueError",
     "evalue": "invalid literal for int() with base 10: 'asd'",
     "output_type": "error",
     "traceback": [
      "\u001b[1;31m---------------------------------------------------------------------------\u001b[0m",
      "\u001b[1;31mValueError\u001b[0m                                Traceback (most recent call last)",
      "Cell \u001b[1;32mIn[6], line 1\u001b[0m\n\u001b[1;32m----> 1\u001b[0m \u001b[38;5;28;43mint\u001b[39;49m\u001b[43m(\u001b[49m\u001b[38;5;124;43m\"\u001b[39;49m\u001b[38;5;124;43masd\u001b[39;49m\u001b[38;5;124;43m\"\u001b[39;49m\u001b[43m)\u001b[49m\n",
      "\u001b[1;31mValueError\u001b[0m: invalid literal for int() with base 10: 'asd'"
     ]
    }
   ],
   "source": [
    "int(\"asd\")"
   ]
  },
  {
   "cell_type": "code",
   "execution_count": 3,
   "metadata": {},
   "outputs": [
    {
     "ename": "SyntaxError",
     "evalue": "cannot assign to False (2778346704.py, line 1)",
     "output_type": "error",
     "traceback": [
      "\u001b[1;36m  Cell \u001b[1;32mIn[3], line 1\u001b[1;36m\u001b[0m\n\u001b[1;33m    False = True\u001b[0m\n\u001b[1;37m    ^\u001b[0m\n\u001b[1;31mSyntaxError\u001b[0m\u001b[1;31m:\u001b[0m cannot assign to False\n"
     ]
    }
   ],
   "source": [
    "False = True"
   ]
  },
  {
   "cell_type": "code",
   "execution_count": 9,
   "metadata": {},
   "outputs": [],
   "source": [
    "#Write a function called write_weird_file. write_weird_file\n",
    "#should take two positional parameters. The first should be\n",
    "#a filename, and the second should be a list. The function\n",
    "#should also have three keyword parameters: mode, sort_first\n",
    "#and reverse_first. The default value for mode should be \"w\",\n",
    "#and the default values for both sort_first and reverse_first\n",
    "#should be False.\n",
    "#\n",
    "#write_weird_file should write the contents of the list to\n",
    "#the given filename. Each item from the list should be on a\n",
    "#separate line. The list items could be strings, floats, \n",
    "#characters, or integers. If the mode is \"w\", it should\n",
    "#overwrite the current contents; if the mode is \"a\", it\n",
    "#should append to the current contents. You may assume there\n",
    "#will be no other value for mode.\n",
    "#\n",
    "#If sort_first is True, it should sort the list before\n",
    "#writing. If reverse_first is True, then it should reverse\n",
    "#the list before writing. If both are True, it should sort,\n",
    "#then reverse.\n",
    "\n",
    "\n",
    "#Add your function here!\n",
    "def write_weird_file(n,l,/, mode=\"w\", sort_first=False,reverse_first=False):\n",
    "    f = open(n, mode)\n",
    "    if sort_first: l.sort()\n",
    "    if reverse_first: l=list(reversed(l))\n",
    "    for a in l:\n",
    "        print(a,file=f)\n",
    "    f.close()\n",
    "\n",
    "\n",
    "#Below are some lines of code that will test your function.\n",
    "#You can change the value of the variable(s) to test your\n",
    "#function with different inputs.\n",
    "#\n",
    "#If your function works correctly, this will originally\n",
    "#print nothing. However, if you open the file called\n",
    "#output.txt in the top left after running it, the contents\n",
    "#of the file should be:\n",
    "#Wait, where'd the other text go?\n",
    "#It's gone!\n",
    "#3\n",
    "#2\n",
    "#1\n",
    "write_weird_file(\"output.txt\", [\"Hmm, I bet this text will disappear.\", \"I wonder where it will go?\"])\n",
    "write_weird_file(\"output.txt\", [\"Wait, where'd the other text go?\", \"It's gone!\"])\n",
    "write_weird_file(\"output.txt\", [2, 1, 3], mode=\"a\", sort_first=True, reverse_first=True)\n",
    "\n",
    "\n",
    "\n",
    "\n",
    "\n"
   ]
  }
 ],
 "metadata": {
  "kernelspec": {
   "display_name": "ml2",
   "language": "python",
   "name": "python3"
  },
  "language_info": {
   "codemirror_mode": {
    "name": "ipython",
    "version": 3
   },
   "file_extension": ".py",
   "mimetype": "text/x-python",
   "name": "python",
   "nbconvert_exporter": "python",
   "pygments_lexer": "ipython3",
   "version": "3.12.3"
  }
 },
 "nbformat": 4,
 "nbformat_minor": 2
}
