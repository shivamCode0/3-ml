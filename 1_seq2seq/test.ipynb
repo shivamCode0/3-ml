{
 "cells": [
  {
   "cell_type": "code",
   "execution_count": 3,
   "metadata": {},
   "outputs": [],
   "source": [
    "import numpy as np\n",
    "import tensorflow as tf\n",
    "import math, os, sys, random, joblib, re, time"
   ]
  },
  {
   "cell_type": "code",
   "execution_count": 7,
   "metadata": {},
   "outputs": [
    {
     "data": {
      "text/plain": [
       "(array(['83+6', '68+42', '36+64', '39+49', '76+34', '68+25', '70+37',\n",
       "        '30+62', '51+11', '11+59'], dtype='<U5'),\n",
       " array(['89', '110', '100', '88', '110', '93', '107', '92', '62', '70'],\n",
       "       dtype='<U5'))"
      ]
     },
     "execution_count": 7,
     "metadata": {},
     "output_type": "execute_result"
    }
   ],
   "source": [
    "a = np.arange(100)\n",
    "b = np.arange(100)\n",
    "\n",
    "c = [(f\"{a1}+{b1}\", f\"{a1+b1}\") for a1 in a for b1 in b]\n",
    "\n",
    "# shuffle c\n",
    "c = np.random.permutation(c)\n",
    "\n",
    "input_texts = c[:, 0]\n",
    "target_texts = c[:, 1]\n",
    "\n",
    "input_texts[:10], target_texts[:10]"
   ]
  },
  {
   "cell_type": "code",
   "execution_count": null,
   "metadata": {},
   "outputs": [],
   "source": []
  }
 ],
 "metadata": {
  "kernelspec": {
   "display_name": "ml",
   "language": "python",
   "name": "python3"
  },
  "language_info": {
   "codemirror_mode": {
    "name": "ipython",
    "version": 3
   },
   "file_extension": ".py",
   "mimetype": "text/x-python",
   "name": "python",
   "nbconvert_exporter": "python",
   "pygments_lexer": "ipython3",
   "version": "3.9.13"
  },
  "orig_nbformat": 4
 },
 "nbformat": 4,
 "nbformat_minor": 2
}
