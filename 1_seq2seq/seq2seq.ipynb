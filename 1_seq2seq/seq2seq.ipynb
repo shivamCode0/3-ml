{
 "cells": [
  {
   "cell_type": "code",
   "execution_count": 2,
   "metadata": {},
   "outputs": [],
   "source": [
    "import numpy as np\n",
    "import tensorflow as tf\n",
    "import json, os, sys, math, time, random, joblib"
   ]
  },
  {
   "cell_type": "code",
   "execution_count": 3,
   "metadata": {},
   "outputs": [
    {
     "name": "stdout",
     "output_type": "stream",
     "text": [
      "(10000,) (10000,)\n",
      "Go. Ve.\n",
      "Go. Vete.\n",
      "Go. Vaya.\n",
      "Go. Váyase.\n",
      "Hi. Hola.\n",
      "Run! ¡Corre!\n",
      "Run! ¡Corran!\n",
      "Run! ¡Huye!\n",
      "Run! ¡Corra!\n",
      "Run! ¡Corred!\n"
     ]
    }
   ],
   "source": [
    "# seq to seq model\n",
    "data = json.load(open('data.json', 'r'))\n",
    "data = np.array(data)\n",
    "\n",
    "input_texts = data[:, 0]\n",
    "target_texts = data[:, 1]\n",
    "\n",
    "print(input_texts.shape, target_texts.shape)\n",
    "[print(input_texts[i], target_texts[i].strip()) for i in range(10)];"
   ]
  },
  {
   "cell_type": "code",
   "execution_count": 4,
   "metadata": {},
   "outputs": [],
   "source": [
    "# vocab is sorted by frequency\n",
    "input_corpus = [char for word in input_texts for char in word]\n",
    "target_corpus = [char for word in target_texts for char in word]\n",
    "\n",
    "input_vocab = [\"<PAD>\", \"<UNK>\", \"<SOS>\", \"<EOS>\", *sorted(set(input_corpus), key=input_corpus.count, reverse=True)]\n",
    "target_vocab = [\"<PAD>\", \"<SOS>\", \"<EOS>\", *sorted(set(target_corpus), key=target_corpus.count, reverse=True)]\n",
    "\n",
    "del input_corpus, target_corpus\n",
    "\n",
    "input_vocab_size = len(input_vocab)\n",
    "target_vocab_size = len(target_vocab)\n",
    "\n",
    "char2idx_input = {char: idx for idx, char in enumerate(input_vocab)}\n",
    "char2idx_target = {char: idx for idx, char in enumerate(target_vocab)}"
   ]
  },
  {
   "cell_type": "code",
   "execution_count": 5,
   "metadata": {},
   "outputs": [
    {
     "data": {
      "text/plain": [
       "(73, 85)"
      ]
     },
     "execution_count": 5,
     "metadata": {},
     "output_type": "execute_result"
    }
   ],
   "source": [
    "input_vocab_size, target_vocab_size"
   ]
  },
  {
   "cell_type": "code",
   "execution_count": 6,
   "metadata": {},
   "outputs": [],
   "source": [
    "def vectorize(input_list: list[str]) -> list[list[int]]:\n",
    "    return [[char2idx_input[c] if c in char2idx_input else char2idx_input[\"<UNK>\"] for c in list(seq)] for seq in input_list]\n",
    "\n",
    "\n",
    "def vectorize_target(input_list: list[str]) -> list[list[int]]:\n",
    "    return [[char2idx_target[c] if c in char2idx_target else char2idx_target[\"<UNK>\"] for c in list(seq)] for seq in input_list]\n",
    "\n",
    "def decode(target_list: list[list[int]]) -> list[str]:\n",
    "    return [\"\".join([target_vocab[c] for c in list(seq)]) for seq in target_list]"
   ]
  },
  {
   "cell_type": "code",
   "execution_count": 7,
   "metadata": {},
   "outputs": [
    {
     "data": {
      "text/plain": [
       "([[14, 5, 16, 16, 6, 1, 4, 23, 6, 13, 16, 17], [4, 9, 4, 9, 4, 9, 4, 9, 4]],\n",
       " ['<PAD><SOS><EOS> eoa', 't'])"
      ]
     },
     "execution_count": 7,
     "metadata": {},
     "output_type": "execute_result"
    }
   ],
   "source": [
    "vectorize([\"hello\\\\ world\", \" a a a a \"]), decode([[0,1,2,3,4,5,6], [11]])"
   ]
  },
  {
   "cell_type": "code",
   "execution_count": 8,
   "metadata": {},
   "outputs": [],
   "source": [
    "EMBEDDING_DIM = 128\n",
    "LSTM_UNITS = 128\n",
    "\n",
    "def make_model():\n",
    "    encoder_input = tf.keras.layers.Input(shape=(None,))\n",
    "    encoder_embedded = tf.keras.layers.Embedding(input_vocab_size, EMBEDDING_DIM)(encoder_input)\n",
    "    encoder_output, state_h, state_c = tf.keras.layers.LSTM(LSTM_UNITS, return_state=True)(encoder_embedded)\n",
    "    encoder_state = [state_h, state_c]\n",
    "\n",
    "    decoder_input = tf.keras.layers.Input(shape=(None,))\n",
    "    decoder_embedded = tf.keras.layers.Embedding(target_vocab_size, EMBEDDING_DIM)(decoder_input)\n",
    "    decoder_lstm = tf.keras.layers.LSTM(LSTM_UNITS, return_sequences=True)\n",
    "    decoder_output = decoder_lstm(decoder_embedded, initial_state=encoder_state)\n",
    "    output = tf.keras.layers.Dense(target_vocab_size, activation=\"softmax\")(decoder_output)\n",
    "\n",
    "    train_model = tf.keras.models.Model([encoder_input, decoder_input], output)\n",
    "\n",
    "    encoder_model = tf.keras.models.Model(encoder_input, encoder_state)\n",
    "    decoder_model = tf.keras.models.Model([decoder_input] + encoder_state, [output] + encoder_state)\n",
    "\n",
    "\n",
    "    return model"
   ]
  },
  {
   "cell_type": "code",
   "execution_count": 9,
   "metadata": {},
   "outputs": [],
   "source": [
    "# def prepare_training_data():\n",
    "#     EOS_token_input = input_vocab.index(\"<EOS>\")\n",
    "#     EOS_token_target = target_vocab.index(\"<EOS>\")\n",
    "#     SOS_token_target = target_vocab.index(\"<SOS>\")\n",
    "#     enc_input = [[*x, EOS_token_input] for x in vectorize(input_texts)]\n",
    "#     dec_vec = [[SOS_token_target, *x, EOS_token_target] for x in vectorize_target(target_texts)]\n",
    "\n",
    "#     # turn to ragged tensor\n",
    "#     enc_input = tf.ragged.constant(enc_input, dtype=tf.int32)\n",
    "#     # dec_vec = tf.ragged.constant(dec_vec, dtype=tf.int32)\n",
    "\n",
    "#     # dec_input is [SOS, x0, x1, ..., xn]\n",
    "#     # dec_target is [x0, x1, ..., xn, EOS]\n",
    "#     dec_input = tf.ragged.constant([x[:-1] for x in dec_vec], dtype=tf.int32)\n",
    "#     dec_target = tf.ragged.constant([x[1:] for x in dec_vec], dtype=tf.int32)\n",
    "\n",
    "#     return [enc_input, dec_input], dec_target"
   ]
  },
  {
   "cell_type": "code",
   "execution_count": 10,
   "metadata": {},
   "outputs": [],
   "source": [
    "pad_sequences = tf.keras.preprocessing.sequence.pad_sequences\n",
    "\n",
    "def prepare_training_data():\n",
    "    EOS_token_input = input_vocab.index(\"<EOS>\")\n",
    "    EOS_token_target = target_vocab.index(\"<EOS>\")\n",
    "    SOS_token_target = target_vocab.index(\"<SOS>\")\n",
    "    enc_input = [[*x, EOS_token_input] for x in vectorize(input_texts)]\n",
    "    dec_vec = [[SOS_token_target, *x, EOS_token_target] for x in vectorize_target(target_texts)]\n",
    "\n",
    "    longest_enc_seq = max([len(x) for x in enc_input])\n",
    "    longest_dec_seq = max([len(x) for x in dec_vec])\n",
    "\n",
    "    enc_input = pad_sequences(enc_input, maxlen=longest_enc_seq, padding='pre')\n",
    "    dec_input = pad_sequences(dec_vec, maxlen=longest_dec_seq, padding='pre')\n",
    "\n",
    "    dec_target = np.zeros_like(dec_input)\n",
    "    dec_target[:, :-1] = dec_input[:, 1:]\n",
    "    dec_target[:, -1] = 0\n",
    "    \n",
    "\n",
    "    return [enc_input, dec_input], dec_target"
   ]
  },
  {
   "cell_type": "code",
   "execution_count": 11,
   "metadata": {},
   "outputs": [],
   "source": [
    "[X1, X2], y = prepare_training_data()"
   ]
  },
  {
   "cell_type": "code",
   "execution_count": 12,
   "metadata": {},
   "outputs": [],
   "source": [
    "# ds = tf.data.Dataset.from_tensor_slices((X1, X2, y))\n",
    "# ds = ds.shuffle(10000).batch(128, drop_remainder=True)\n",
    "\n",
    "# # map so each batch is not ragged\n",
    "# def fix_batch(*batch):\n",
    "#     for rt in batch:\n",
    "#         padded = rt.to_tensor(0)\n",
    "#         rt = tf.reverse(padded, [-1])\n",
    "#     x1, x2, y = batch\n",
    "#     return [x1, x2], y\n",
    "\n",
    "# ds = ds.map(fix_batch)"
   ]
  },
  {
   "cell_type": "code",
   "execution_count": 13,
   "metadata": {},
   "outputs": [
    {
     "data": {
      "text/plain": [
       "(array([ 0,  0,  0,  0,  0,  0,  0,  0,  0,  0,  0,  0,  0, 41,  6,  7,  3]),\n",
       " array([ 0,  0,  0,  0,  0,  0,  0,  0,  0,  0,  0,  0,  0,  0,  0,  0,  0,\n",
       "         0,  0,  0,  0,  0,  0,  0,  0,  0,  0,  0,  0,  0,  0,  0,  0,  0,\n",
       "         0,  0,  0,  0,  0,  0,  1, 48,  4, 11,  4,  8,  2]),\n",
       " array([ 0,  0,  0,  0,  0,  0,  0,  0,  0,  0,  0,  0,  0,  0,  0,  0,  0,\n",
       "         0,  0,  0,  0,  0,  0,  0,  0,  0,  0,  0,  0,  0,  0,  0,  0,  0,\n",
       "         0,  0,  0,  0,  0,  1, 48,  4, 11,  4,  8,  2,  0]))"
      ]
     },
     "execution_count": 13,
     "metadata": {},
     "output_type": "execute_result"
    }
   ],
   "source": [
    "X1[1], X2[1], y[1]"
   ]
  },
  {
   "cell_type": "code",
   "execution_count": 14,
   "metadata": {},
   "outputs": [],
   "source": [
    "# Split the data into training and testing sets\n",
    "indices = tf.range(start=0, limit=tf.shape(y)[0], dtype=tf.int32)\n",
    "shuffled_indices = tf.random.shuffle(indices)\n",
    "\n",
    "[X1, X2, y] = [tf.gather(params=params, indices=shuffled_indices) for params in [X1, X2, y]]"
   ]
  },
  {
   "cell_type": "code",
   "execution_count": 15,
   "metadata": {},
   "outputs": [
    {
     "name": "stdout",
     "output_type": "stream",
     "text": [
      "Model: \"model\"\n",
      "__________________________________________________________________________________________________\n",
      " Layer (type)                   Output Shape         Param #     Connected to                     \n",
      "==================================================================================================\n",
      " input_1 (InputLayer)           [(None, None)]       0           []                               \n",
      "                                                                                                  \n",
      " input_2 (InputLayer)           [(None, None)]       0           []                               \n",
      "                                                                                                  \n",
      " embedding (Embedding)          (None, None, 128)    9344        ['input_1[0][0]']                \n",
      "                                                                                                  \n",
      " embedding_1 (Embedding)        (None, None, 128)    10880       ['input_2[0][0]']                \n",
      "                                                                                                  \n",
      " lstm (LSTM)                    [(None, 128),        131584      ['embedding[0][0]']              \n",
      "                                 (None, 128),                                                     \n",
      "                                 (None, 128)]                                                     \n",
      "                                                                                                  \n",
      " lstm_1 (LSTM)                  (None, None, 128)    131584      ['embedding_1[0][0]',            \n",
      "                                                                  'lstm[0][1]',                   \n",
      "                                                                  'lstm[0][2]']                   \n",
      "                                                                                                  \n",
      " dense (Dense)                  (None, None, 85)     10965       ['lstm_1[0][0]']                 \n",
      "                                                                                                  \n",
      "==================================================================================================\n",
      "Total params: 294,357\n",
      "Trainable params: 294,357\n",
      "Non-trainable params: 0\n",
      "__________________________________________________________________________________________________\n"
     ]
    },
    {
     "data": {
      "image/png": "[encoded data removed]",
      "text/plain": [
       "<IPython.core.display.Image object>"
      ]
     },
     "execution_count": 15,
     "metadata": {},
     "output_type": "execute_result"
    }
   ],
   "source": [
    "model = make_model()\n",
    "model.summary()\n",
    "tf.keras.utils.plot_model(model, show_shapes=True)"
   ]
  },
  {
   "cell_type": "code",
   "execution_count": 17,
   "metadata": {},
   "outputs": [
    {
     "name": "stdout",
     "output_type": "stream",
     "text": [
      "Epoch 1/20\n",
      "79/79 [==============================] - 4s 13ms/step - loss: 0.9606 - accuracy: 0.7282\n",
      "Epoch 2/20\n",
      "79/79 [==============================] - 1s 13ms/step - loss: 0.7482 - accuracy: 0.7718\n",
      "Epoch 3/20\n",
      "79/79 [==============================] - 1s 13ms/step - loss: 0.6763 - accuracy: 0.7910\n",
      "Epoch 4/20\n",
      "79/79 [==============================] - 1s 13ms/step - loss: 0.6309 - accuracy: 0.8042\n",
      "Epoch 5/20\n",
      "79/79 [==============================] - 1s 13ms/step - loss: 0.5982 - accuracy: 0.8140\n",
      "Epoch 6/20\n",
      "79/79 [==============================] - 1s 13ms/step - loss: 0.5717 - accuracy: 0.8219\n",
      "Epoch 7/20\n",
      "79/79 [==============================] - 1s 13ms/step - loss: 0.5507 - accuracy: 0.8281\n",
      "Epoch 8/20\n",
      "79/79 [==============================] - 1s 13ms/step - loss: 0.5326 - accuracy: 0.8332\n",
      "Epoch 9/20\n",
      "79/79 [==============================] - 1s 13ms/step - loss: 0.5178 - accuracy: 0.8380\n",
      "Epoch 10/20\n",
      "79/79 [==============================] - 1s 13ms/step - loss: 0.5047 - accuracy: 0.8416\n",
      "Epoch 11/20\n",
      "79/79 [==============================] - 1s 13ms/step - loss: 0.4926 - accuracy: 0.8455\n",
      "Epoch 12/20\n",
      "79/79 [==============================] - 1s 12ms/step - loss: 0.4821 - accuracy: 0.8483\n",
      "Epoch 13/20\n",
      "79/79 [==============================] - 1s 13ms/step - loss: 0.4717 - accuracy: 0.8512\n",
      "Epoch 14/20\n",
      "79/79 [==============================] - 1s 13ms/step - loss: 0.4627 - accuracy: 0.8546\n",
      "Epoch 15/20\n",
      "79/79 [==============================] - 1s 13ms/step - loss: 0.4513 - accuracy: 0.8582\n",
      "Epoch 16/20\n",
      "79/79 [==============================] - 1s 13ms/step - loss: 0.4402 - accuracy: 0.8609\n",
      "Epoch 17/20\n",
      "79/79 [==============================] - 1s 13ms/step - loss: 0.4317 - accuracy: 0.8631\n",
      "Epoch 18/20\n",
      "79/79 [==============================] - 1s 13ms/step - loss: 0.4237 - accuracy: 0.8664\n",
      "Epoch 19/20\n",
      "79/79 [==============================] - 1s 14ms/step - loss: 0.4125 - accuracy: 0.8705\n",
      "Epoch 20/20\n",
      "79/79 [==============================] - 1s 14ms/step - loss: 0.4046 - accuracy: 0.8724\n"
     ]
    },
    {
     "name": "stderr",
     "output_type": "stream",
     "text": [
      "WARNING:absl:Found untraced functions such as lstm_cell_layer_call_fn, lstm_cell_layer_call_and_return_conditional_losses, lstm_cell_1_layer_call_fn, lstm_cell_1_layer_call_and_return_conditional_losses while saving (showing 4 of 4). These functions will not be directly callable after loading.\n"
     ]
    },
    {
     "name": "stdout",
     "output_type": "stream",
     "text": [
      "INFO:tensorflow:Assets written to: tmp/s2s1\\assets\n"
     ]
    },
    {
     "name": "stderr",
     "output_type": "stream",
     "text": [
      "INFO:tensorflow:Assets written to: tmp/s2s1\\assets\n"
     ]
    }
   ],
   "source": [
    "model.compile(\n",
    "    optimizer=tf.keras.optimizers.RMSprop(learning_rate=0.005), loss=\"sparse_categorical_crossentropy\", metrics=[\"accuracy\"]\n",
    ")\n",
    "model.fit(\n",
    "    [X1, X2],\n",
    "    y,\n",
    "    batch_size=128,\n",
    "    epochs=20,\n",
    ")\n",
    "# Save model\n",
    "model.save(\"tmp/s2s1\")"
   ]
  },
  {
   "cell_type": "code",
   "execution_count": null,
   "metadata": {},
   "outputs": [],
   "source": [
    "def translate(text):\n",
    "    "
   ]
  }
 ],
 "metadata": {
  "kernelspec": {
   "display_name": "tf",
   "language": "python",
   "name": "python3"
  },
  "language_info": {
   "codemirror_mode": {
    "name": "ipython",
    "version": 3
   },
   "file_extension": ".py",
   "mimetype": "text/x-python",
   "name": "python",
   "nbconvert_exporter": "python",
   "pygments_lexer": "ipython3",
   "version": "3.9.13"
  },
  "orig_nbformat": 4
 },
 "nbformat": 4,
 "nbformat_minor": 2
}
