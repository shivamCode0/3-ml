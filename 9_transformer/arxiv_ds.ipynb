{
 "cells": [
  {
   "cell_type": "code",
   "execution_count": 12,
   "metadata": {},
   "outputs": [
    {
     "name": "stderr",
     "output_type": "stream",
     "text": [
      "C:\\Users\\shiva\\AppData\\Local\\Temp\\ipykernel_24972\\2575682555.py:54: DeprecationWarning: The 'Search.results' method is deprecated, use 'Client.results' instead\n",
      "  for result in tqdm(search.results()):\n",
      "0it [00:00, ?it/s]"
     ]
    },
    {
     "name": "stdout",
     "output_type": "stream",
     "text": [
      "Downloading Jellyfish galaxies with the IllustrisTNG simulations -- Citizen-science results towards large distances, low-mass hosts, and high redshifts\n"
     ]
    },
    {
     "name": "stderr",
     "output_type": "stream",
     "text": [
      "1it [00:02,  2.01s/it]"
     ]
    },
    {
     "name": "stdout",
     "output_type": "stream",
     "text": [
      "Error processing Jellyfish galaxies with the IllustrisTNG simulations -- Citizen-science results towards large distances, low-mass hosts, and high redshifts: cannot access local variable 'filtered_file_path' where it is not associated with a value\n",
      "Downloading Jellyfish galaxies with the IllustrisTNG simulations -- No enhanced population-wide star formation according to TNG50\n"
     ]
    },
    {
     "name": "stderr",
     "output_type": "stream",
     "text": [
      "2it [00:02,  1.18s/it]"
     ]
    },
    {
     "name": "stdout",
     "output_type": "stream",
     "text": [
      "Error processing Jellyfish galaxies with the IllustrisTNG simulations -- No enhanced population-wide star formation according to TNG50: cannot access local variable 'filtered_file_path' where it is not associated with a value\n",
      "Downloading Jellyfish galaxies with the IllustrisTNG simulations -- When, where, and for how long does ram pressure stripping of cold gas occur?\n"
     ]
    },
    {
     "name": "stderr",
     "output_type": "stream",
     "text": [
      "5it [00:03,  2.60it/s]"
     ]
    },
    {
     "name": "stdout",
     "output_type": "stream",
     "text": [
      "Error processing Jellyfish galaxies with the IllustrisTNG simulations -- When, where, and for how long does ram pressure stripping of cold gas occur?: cannot access local variable 'filtered_file_path' where it is not associated with a value\n",
      "Downloading Bremsstrahlung emission from nuclear reactions in compact stars\n",
      "Error processing Bremsstrahlung emission from nuclear reactions in compact stars: cannot access local variable 'filtered_file_path' where it is not associated with a value\n",
      "Downloading Spontaneous current-layer fragmentation and cascading reconnection in solar flares: II. Relation to observations\n",
      "Error processing Spontaneous current-layer fragmentation and cascading reconnection in solar flares: II. Relation to observations: cannot access local variable 'filtered_file_path' where it is not associated with a value\n",
      "Downloading Proper motion and Photometric Variability of the Candidate Propotoplanet TMR-1C\n",
      "Error processing Proper motion and Photometric Variability of the Candidate Propotoplanet TMR-1C: HTTP Error 404: Not Found\n",
      "Downloading Towards a warped inflationary brane scanning\n",
      "Error processing Towards a warped inflationary brane scanning: cannot access local variable 'filtered_file_path' where it is not associated with a value\n",
      "Downloading Ultraviolet Spectra of Local Galaxies and their Link with the High-z Population\n"
     ]
    },
    {
     "name": "stderr",
     "output_type": "stream",
     "text": [
      "10it [00:03,  6.42it/s]"
     ]
    },
    {
     "name": "stdout",
     "output_type": "stream",
     "text": [
      "Error processing Ultraviolet Spectra of Local Galaxies and their Link with the High-z Population: cannot access local variable 'filtered_file_path' where it is not associated with a value\n",
      "Downloading Correlated variability in the blazar 3C 454.3\n",
      "Error processing Correlated variability in the blazar 3C 454.3: cannot access local variable 'filtered_file_path' where it is not associated with a value\n",
      "Downloading Biases and Uncertainties in Physical Parameter Estimates of Lyman Break Galaxies from Broad-band Photometry\n",
      "Error processing Biases and Uncertainties in Physical Parameter Estimates of Lyman Break Galaxies from Broad-band Photometry: cannot access local variable 'filtered_file_path' where it is not associated with a value\n",
      "Downloading Dynamics of a Spherical Accretion Shock with Neutrino Heating and Alpha-Particle Recombination\n"
     ]
    },
    {
     "name": "stderr",
     "output_type": "stream",
     "text": [
      "14it [00:03,  9.76it/s]"
     ]
    },
    {
     "name": "stdout",
     "output_type": "stream",
     "text": [
      "Error processing Dynamics of a Spherical Accretion Shock with Neutrino Heating and Alpha-Particle Recombination: cannot access local variable 'filtered_file_path' where it is not associated with a value\n",
      "Downloading Asymptotically FRW black holes\n",
      "Error processing Asymptotically FRW black holes: cannot access local variable 'filtered_file_path' where it is not associated with a value\n",
      "Downloading Quantum Black Holes As Elementary Particles\n",
      "Error processing Quantum Black Holes As Elementary Particles: cannot access local variable 'filtered_file_path' where it is not associated with a value\n",
      "Downloading Reaction of Accretion Disks to Abrupt Mass Loss During Binary Black Hole Merger\n",
      "Error processing Reaction of Accretion Disks to Abrupt Mass Loss During Binary Black Hole Merger: cannot access local variable 'filtered_file_path' where it is not associated with a value\n",
      "Downloading A Gamma-Ray Burst/Pulsar for Cosmic-Ray Positrons with a Dark Matter-like Spectrum\n",
      "Error processing A Gamma-Ray Burst/Pulsar for Cosmic-Ray Positrons with a Dark Matter-like Spectrum: cannot access local variable 'filtered_file_path' where it is not associated with a value\n",
      "Downloading Catastrophic Photo-z Errors and the Dark Energy Parameter Estimates with Cosmic Shear\n"
     ]
    },
    {
     "name": "stderr",
     "output_type": "stream",
     "text": [
      "19it [00:03, 13.20it/s]"
     ]
    },
    {
     "name": "stdout",
     "output_type": "stream",
     "text": [
      "Error processing Catastrophic Photo-z Errors and the Dark Energy Parameter Estimates with Cosmic Shear: cannot access local variable 'filtered_file_path' where it is not associated with a value\n",
      "Downloading Stellar Ages from Stellar Rotation\n",
      "Error processing Stellar Ages from Stellar Rotation: cannot access local variable 'filtered_file_path' where it is not associated with a value\n",
      "Downloading An Evolutionary Considerations for V228 from 47 Tuc\n",
      "Error processing An Evolutionary Considerations for V228 from 47 Tuc: cannot access local variable 'filtered_file_path' where it is not associated with a value\n",
      "Downloading Source region of the 2003 November 18 CME that led to the strongest magnetic storm of cycle 23\n",
      "Error processing Source region of the 2003 November 18 CME that led to the strongest magnetic storm of cycle 23: cannot access local variable 'filtered_file_path' where it is not associated with a value\n",
      "Downloading Further progress on solar age calibration\n",
      "Error processing Further progress on solar age calibration: cannot access local variable 'filtered_file_path' where it is not associated with a value\n",
      "Downloading Bulk viscosity of strange matter and r-modes in neutron stars\n",
      "Error processing Bulk viscosity of strange matter and r-modes in neutron stars: cannot access local variable 'filtered_file_path' where it is not associated with a value\n",
      "Downloading Necessity of Dark Matter in Modified Newtonian Dynamics within Galactic Scales? - Testing the Covariant MOND in Elliptical Lenses\n",
      "Error processing Necessity of Dark Matter in Modified Newtonian Dynamics within Galactic Scales? - Testing the Covariant MOND in Elliptical Lenses: cannot access local variable 'filtered_file_path' where it is not associated with a value\n",
      "Downloading Origin of Europa and the Galilean Satellites\n"
     ]
    },
    {
     "name": "stderr",
     "output_type": "stream",
     "text": [
      "26it [00:04, 16.89it/s]"
     ]
    },
    {
     "name": "stdout",
     "output_type": "stream",
     "text": [
      "Error processing Origin of Europa and the Galilean Satellites: cannot access local variable 'filtered_file_path' where it is not associated with a value\n",
      "Downloading High Accuracy Near-infrared Imaging Polarimetry with NICMOS\n",
      "Error processing High Accuracy Near-infrared Imaging Polarimetry with NICMOS: cannot access local variable 'filtered_file_path' where it is not associated with a value\n",
      "Downloading Active Galactic Nuclei, Radio Jets and Acceleration of UHECRs\n",
      "Error processing Active Galactic Nuclei, Radio Jets and Acceleration of UHECRs: cannot access local variable 'filtered_file_path' where it is not associated with a value\n",
      "Downloading Compressed sensing imaging techniques for radio interferometry\n",
      "Error processing Compressed sensing imaging techniques for radio interferometry: cannot access local variable 'filtered_file_path' where it is not associated with a value\n",
      "Downloading The CHilean Automatic Supernova sEarch (CHASE)\n",
      "Error processing The CHilean Automatic Supernova sEarch (CHASE): cannot access local variable 'filtered_file_path' where it is not associated with a value\n",
      "Downloading Measuring interstellar magnetic fields by radio synchrotron emission\n"
     ]
    },
    {
     "name": "stderr",
     "output_type": "stream",
     "text": [
      "31it [00:04, 17.94it/s]"
     ]
    },
    {
     "name": "stdout",
     "output_type": "stream",
     "text": [
      "Error processing Measuring interstellar magnetic fields by radio synchrotron emission: cannot access local variable 'filtered_file_path' where it is not associated with a value\n",
      "Downloading Intermediate inflation on the brane\n",
      "Error processing Intermediate inflation on the brane: cannot access local variable 'filtered_file_path' where it is not associated with a value\n",
      "Downloading Friedmann cosmology with bulk viscosity: a concrete model for dark energy\n",
      "Error processing Friedmann cosmology with bulk viscosity: a concrete model for dark energy: cannot access local variable 'filtered_file_path' where it is not associated with a value\n",
      "Downloading Detecting Solar Neutrino Flare in Megaton and km^3 detectors\n",
      "Error processing Detecting Solar Neutrino Flare in Megaton and km^3 detectors: cannot access local variable 'filtered_file_path' where it is not associated with a value\n",
      "Downloading Anisotropic distribution functions for spherical galaxies\n",
      "Error processing Anisotropic distribution functions for spherical galaxies: cannot access local variable 'filtered_file_path' where it is not associated with a value\n",
      "Downloading Consistency of Equations in the Second-order Gauge-invariant Cosmological Perturbation Theory\n"
     ]
    },
    {
     "name": "stderr",
     "output_type": "stream",
     "text": [
      "34it [00:04, 20.50it/s]"
     ]
    },
    {
     "name": "stdout",
     "output_type": "stream",
     "text": [
      "Error processing Consistency of Equations in the Second-order Gauge-invariant Cosmological Perturbation Theory: cannot access local variable 'filtered_file_path' where it is not associated with a value\n",
      "Downloading Quantum vacuum and accelerated expansion\n",
      "Error processing Quantum vacuum and accelerated expansion: cannot access local variable 'filtered_file_path' where it is not associated with a value\n",
      "Downloading Near-IR spectroscopic ages of massive star clusters in M82\n",
      "Error processing Near-IR spectroscopic ages of massive star clusters in M82: cannot access local variable 'filtered_file_path' where it is not associated with a value\n",
      "Downloading Infall and rotation motions in the HH 111 protostellar system: A flattened envelope in transition to a disk?\n",
      "Error processing Infall and rotation motions in the HH 111 protostellar system: A flattened envelope in transition to a disk?: cannot access local variable 'filtered_file_path' where it is not associated with a value\n",
      "Downloading Untwisting magnetospheres of neutron stars\n"
     ]
    },
    {
     "name": "stderr",
     "output_type": "stream",
     "text": [
      "41it [00:04, 21.54it/s]"
     ]
    },
    {
     "name": "stdout",
     "output_type": "stream",
     "text": [
      "Error processing Untwisting magnetospheres of neutron stars: cannot access local variable 'filtered_file_path' where it is not associated with a value\n",
      "Downloading Dynamic masses for the close PG1159 binary SDSSJ212531.92-010745.9\n",
      "Error processing Dynamic masses for the close PG1159 binary SDSSJ212531.92-010745.9: cannot access local variable 'filtered_file_path' where it is not associated with a value\n",
      "Downloading Long-term photometric monitoring of the hybrid subdwarf B pulsator HS0702+6043\n",
      "Error processing Long-term photometric monitoring of the hybrid subdwarf B pulsator HS0702+6043: cannot access local variable 'filtered_file_path' where it is not associated with a value\n",
      "Downloading Spectroscopy of the sdB pulsator HS2201+2610\n",
      "Error processing Spectroscopy of the sdB pulsator HS2201+2610: cannot access local variable 'filtered_file_path' where it is not associated with a value\n",
      "Downloading Multi-wavelength photometric variation of PG1605+072\n",
      "Error processing Multi-wavelength photometric variation of PG1605+072: cannot access local variable 'filtered_file_path' where it is not associated with a value\n",
      "Downloading PIERNIK mhd code - a multi-fluid, non-ideal extension of the relaxing-TVD scheme (III)\n",
      "Error processing PIERNIK mhd code - a multi-fluid, non-ideal extension of the relaxing-TVD scheme (III): cannot access local variable 'filtered_file_path' where it is not associated with a value\n",
      "Downloading Dark Stars: the First Stars in the Universe may be powered by Dark Matter Heating\n",
      "Error processing Dark Stars: the First Stars in the Universe may be powered by Dark Matter Heating: cannot access local variable 'filtered_file_path' where it is not associated with a value\n",
      "Downloading Orbital resonances in discs around braneworld Kerr black holes\n"
     ]
    },
    {
     "name": "stderr",
     "output_type": "stream",
     "text": [
      "47it [00:05, 15.09it/s]"
     ]
    },
    {
     "name": "stdout",
     "output_type": "stream",
     "text": [
      "Error processing Orbital resonances in discs around braneworld Kerr black holes: cannot access local variable 'filtered_file_path' where it is not associated with a value\n",
      "Downloading The variation of the electromagnetic coupling and quintessence\n",
      "Error processing The variation of the electromagnetic coupling and quintessence: cannot access local variable 'filtered_file_path' where it is not associated with a value\n",
      "Downloading 3D Spectroscopic Study of the Line Emitting Regions of Mrk 493\n",
      "Error processing 3D Spectroscopic Study of the Line Emitting Regions of Mrk 493: cannot access local variable 'filtered_file_path' where it is not associated with a value\n",
      "Downloading Angular Energy Distribution of Collapsar-Jets\n",
      "Error processing Angular Energy Distribution of Collapsar-Jets: cannot access local variable 'filtered_file_path' where it is not associated with a value\n",
      "Downloading Explosions inside Ejecta and Most Luminous Supernovae\n",
      "Error processing Explosions inside Ejecta and Most Luminous Supernovae: cannot access local variable 'filtered_file_path' where it is not associated with a value\n",
      "Downloading Quasi-viscous accretion flow -- I: Equilibrium conditions and asymptotic behaviour\n"
     ]
    },
    {
     "name": "stderr",
     "output_type": "stream",
     "text": [
      "50it [00:05, 17.14it/s]"
     ]
    },
    {
     "name": "stdout",
     "output_type": "stream",
     "text": [
      "Error processing Quasi-viscous accretion flow -- I: Equilibrium conditions and asymptotic behaviour: cannot access local variable 'filtered_file_path' where it is not associated with a value\n",
      "Downloading Observations of the pulsation of the Cepheid l Car with the Sydney University Stellar Interferometer\n",
      "Error processing Observations of the pulsation of the Cepheid l Car with the Sydney University Stellar Interferometer: cannot access local variable 'filtered_file_path' where it is not associated with a value\n",
      "Downloading Jet breaks and Energetics of Swift GRB X-ray Afterglows\n",
      "Error processing Jet breaks and Energetics of Swift GRB X-ray Afterglows: cannot access local variable 'filtered_file_path' where it is not associated with a value\n",
      "Downloading Constraints on Dark Energy from the Observed Expansion of our Cosmic Horizon\n",
      "Error processing Constraints on Dark Energy from the Observed Expansion of our Cosmic Horizon: cannot access local variable 'filtered_file_path' where it is not associated with a value\n",
      "Downloading Reversal of the amplitude difference of kHz QPOs in six atoll sources\n"
     ]
    },
    {
     "name": "stderr",
     "output_type": "stream",
     "text": [
      "55it [00:05, 15.34it/s]"
     ]
    },
    {
     "name": "stdout",
     "output_type": "stream",
     "text": [
      "Error processing Reversal of the amplitude difference of kHz QPOs in six atoll sources: cannot access local variable 'filtered_file_path' where it is not associated with a value\n",
      "Downloading The origin of 'Great Walls'\n",
      "Error processing The origin of 'Great Walls': cannot access local variable 'filtered_file_path' where it is not associated with a value\n",
      "Downloading Thermal axion constraints in non-standard thermal histories\n",
      "Error processing Thermal axion constraints in non-standard thermal histories: cannot access local variable 'filtered_file_path' where it is not associated with a value\n"
     ]
    },
    {
     "name": "stderr",
     "output_type": "stream",
     "text": [
      "57it [00:06, 15.35it/s]"
     ]
    },
    {
     "name": "stdout",
     "output_type": "stream",
     "text": [
      "Downloading Realistic analytic model for the prompt and high latitude emission in GRBs\n",
      "Error processing Realistic analytic model for the prompt and high latitude emission in GRBs: cannot access local variable 'filtered_file_path' where it is not associated with a value\n",
      "Downloading Rapid pulsations in sub-THz solar bursts\n",
      "Error processing Rapid pulsations in sub-THz solar bursts: cannot access local variable 'filtered_file_path' where it is not associated with a value\n",
      "Downloading Photometric Properties of the Near-contact Binary GW Geminorum\n",
      "Error processing Photometric Properties of the Near-contact Binary GW Geminorum: cannot access local variable 'filtered_file_path' where it is not associated with a value\n",
      "Downloading Preheating in the Standard Model with the Higgs-Inflaton coupled to gravity\n"
     ]
    },
    {
     "name": "stderr",
     "output_type": "stream",
     "text": [
      "62it [00:06, 17.38it/s]"
     ]
    },
    {
     "name": "stdout",
     "output_type": "stream",
     "text": [
      "Error processing Preheating in the Standard Model with the Higgs-Inflaton coupled to gravity: cannot access local variable 'filtered_file_path' where it is not associated with a value\n",
      "Downloading Adiabatic expansion and magnetic fields in AGN jets\n",
      "Error processing Adiabatic expansion and magnetic fields in AGN jets: cannot access local variable 'filtered_file_path' where it is not associated with a value\n",
      "Downloading Probing parsec scale jets in AGN with geodetic VLBI\n",
      "Error processing Probing parsec scale jets in AGN with geodetic VLBI: cannot access local variable 'filtered_file_path' where it is not associated with a value\n",
      "Downloading Search for the magnetic field of the O7.5 III star xi Persei\n",
      "Error processing Search for the magnetic field of the O7.5 III star xi Persei: cannot access local variable 'filtered_file_path' where it is not associated with a value\n",
      "Downloading A New Model For Vela Jr. Supernova Remnant\n"
     ]
    },
    {
     "name": "stderr",
     "output_type": "stream",
     "text": [
      "67it [00:06, 20.18it/s]"
     ]
    },
    {
     "name": "stdout",
     "output_type": "stream",
     "text": [
      "Error processing A New Model For Vela Jr. Supernova Remnant: cannot access local variable 'filtered_file_path' where it is not associated with a value\n",
      "Downloading The magnetic field of the B3V star 16 Pegasi\n",
      "Error processing The magnetic field of the B3V star 16 Pegasi: cannot access local variable 'filtered_file_path' where it is not associated with a value\n",
      "Downloading Scenarios for GCRT J1745-3009\n",
      "Error processing Scenarios for GCRT J1745-3009: cannot access local variable 'filtered_file_path' where it is not associated with a value\n",
      "Downloading Band-power reconstruction of the primordial fluctuation spectrum by the maximum likelihood reconstruction method\n",
      "Error processing Band-power reconstruction of the primordial fluctuation spectrum by the maximum likelihood reconstruction method: cannot access local variable 'filtered_file_path' where it is not associated with a value\n",
      "Downloading Model of Reconnection of Weakly Stochastic Magnetic Field and its Testing\n",
      "Error processing Model of Reconnection of Weakly Stochastic Magnetic Field and its Testing: cannot access local variable 'filtered_file_path' where it is not associated with a value\n",
      "Downloading Grain alignment induced by radiative torques: effects of internal relaxation of energy and complex radiation fields\n"
     ]
    },
    {
     "name": "stderr",
     "output_type": "stream",
     "text": [
      "73it [00:06, 21.28it/s]"
     ]
    },
    {
     "name": "stdout",
     "output_type": "stream",
     "text": [
      "Error processing Grain alignment induced by radiative torques: effects of internal relaxation of energy and complex radiation fields: cannot access local variable 'filtered_file_path' where it is not associated with a value\n",
      "Downloading Null geodesics and observational cosmology\n",
      "Error processing Null geodesics and observational cosmology: cannot access local variable 'filtered_file_path' where it is not associated with a value\n",
      "Downloading On Dark Energy and Dark Matter (Part I)\n",
      "Error processing On Dark Energy and Dark Matter (Part I): cannot access local variable 'filtered_file_path' where it is not associated with a value\n",
      "Downloading Near-infrared bulge-disc correlations of lenticular galaxies\n",
      "Error processing Near-infrared bulge-disc correlations of lenticular galaxies: cannot access local variable 'filtered_file_path' where it is not associated with a value\n",
      "Downloading Is the PAMELA Positron Excess Winos?\n",
      "Error processing Is the PAMELA Positron Excess Winos?: cannot access local variable 'filtered_file_path' where it is not associated with a value\n",
      "Downloading Do non-relativistic neutrinos constitute the dark matter?\n",
      "Error processing Do non-relativistic neutrinos constitute the dark matter?: cannot access local variable 'filtered_file_path' where it is not associated with a value\n"
     ]
    },
    {
     "name": "stderr",
     "output_type": "stream",
     "text": [
      "75it [00:07, 10.68it/s]\n"
     ]
    },
    {
     "name": "stdout",
     "output_type": "stream",
     "text": [
      "Downloading Explaining the Orbits of the Galactic Center S-Stars\n",
      "Error processing Explaining the Orbits of the Galactic Center S-Stars: cannot access local variable 'filtered_file_path' where it is not associated with a value\n",
      "Downloading The ACS Survey of Galactic Globular Clusters. VII. Relative Ages\n",
      "Error processing The ACS Survey of Galactic Globular Clusters. VII. Relative Ages: cannot access local variable 'filtered_file_path' where it is not associated with a value\n",
      "Downloading Nonlinear Density Fluctuation Field Theory for Large Scale Structure\n"
     ]
    },
    {
     "ename": "KeyboardInterrupt",
     "evalue": "",
     "output_type": "error",
     "traceback": [
      "\u001b[1;31m---------------------------------------------------------------------------\u001b[0m",
      "\u001b[1;31mKeyboardInterrupt\u001b[0m                         Traceback (most recent call last)",
      "Cell \u001b[1;32mIn[12], line 88\u001b[0m\n\u001b[0;32m     84\u001b[0m                 \u001b[38;5;28;01mif\u001b[39;00m os\u001b[38;5;241m.\u001b[39mpath\u001b[38;5;241m.\u001b[39mexists(extract_dir):\n\u001b[0;32m     85\u001b[0m                     shutil\u001b[38;5;241m.\u001b[39mrmtree(extract_dir)  \u001b[38;5;66;03m# Clean up if an error occurs\u001b[39;00m\n\u001b[1;32m---> 88\u001b[0m \u001b[43mfetch_and_filter_papers\u001b[49m\u001b[43m(\u001b[49m\u001b[43m)\u001b[49m\n",
      "Cell \u001b[1;32mIn[12], line 59\u001b[0m, in \u001b[0;36mfetch_and_filter_papers\u001b[1;34m()\u001b[0m\n\u001b[0;32m     57\u001b[0m paper_id \u001b[38;5;241m=\u001b[39m result\u001b[38;5;241m.\u001b[39mentry_id\u001b[38;5;241m.\u001b[39msplit(\u001b[38;5;124m\"\u001b[39m\u001b[38;5;124m/\u001b[39m\u001b[38;5;124m\"\u001b[39m)[\u001b[38;5;241m-\u001b[39m\u001b[38;5;241m1\u001b[39m]\n\u001b[0;32m     58\u001b[0m download_path \u001b[38;5;241m=\u001b[39m os\u001b[38;5;241m.\u001b[39mpath\u001b[38;5;241m.\u001b[39mjoin(data_path, \u001b[38;5;124mf\u001b[39m\u001b[38;5;124m\"\u001b[39m\u001b[38;5;132;01m{\u001b[39;00mpaper_id\u001b[38;5;132;01m}\u001b[39;00m\u001b[38;5;124m.tar.gz\u001b[39m\u001b[38;5;124m\"\u001b[39m)\n\u001b[1;32m---> 59\u001b[0m \u001b[43mresult\u001b[49m\u001b[38;5;241;43m.\u001b[39;49m\u001b[43mdownload_source\u001b[49m\u001b[43m(\u001b[49m\u001b[43mdirpath\u001b[49m\u001b[38;5;241;43m=\u001b[39;49m\u001b[43mdata_path\u001b[49m\u001b[43m,\u001b[49m\u001b[43m \u001b[49m\u001b[43mfilename\u001b[49m\u001b[38;5;241;43m=\u001b[39;49m\u001b[38;5;124;43mf\u001b[39;49m\u001b[38;5;124;43m\"\u001b[39;49m\u001b[38;5;132;43;01m{\u001b[39;49;00m\u001b[43mpaper_id\u001b[49m\u001b[38;5;132;43;01m}\u001b[39;49;00m\u001b[38;5;124;43m.tar.gz\u001b[39;49m\u001b[38;5;124;43m\"\u001b[39;49m\u001b[43m)\u001b[49m\n\u001b[0;32m     60\u001b[0m extract_dir \u001b[38;5;241m=\u001b[39m os\u001b[38;5;241m.\u001b[39mpath\u001b[38;5;241m.\u001b[39mjoin(data_path, paper_id)\n\u001b[0;32m     61\u001b[0m os\u001b[38;5;241m.\u001b[39mmakedirs(extract_dir, exist_ok\u001b[38;5;241m=\u001b[39m\u001b[38;5;28;01mTrue\u001b[39;00m)\n",
      "File \u001b[1;32mc:\\Users\\shiva\\miniconda3\\envs\\ml2\\Lib\\site-packages\\arxiv\\__init__.py:229\u001b[0m, in \u001b[0;36mResult.download_source\u001b[1;34m(self, dirpath, filename)\u001b[0m\n\u001b[0;32m    227\u001b[0m \u001b[38;5;66;03m# Bodge: construct the source URL from the PDF URL.\u001b[39;00m\n\u001b[0;32m    228\u001b[0m source_url \u001b[38;5;241m=\u001b[39m \u001b[38;5;28mself\u001b[39m\u001b[38;5;241m.\u001b[39mpdf_url\u001b[38;5;241m.\u001b[39mreplace(\u001b[38;5;124m\"\u001b[39m\u001b[38;5;124m/pdf/\u001b[39m\u001b[38;5;124m\"\u001b[39m, \u001b[38;5;124m\"\u001b[39m\u001b[38;5;124m/src/\u001b[39m\u001b[38;5;124m\"\u001b[39m)\n\u001b[1;32m--> 229\u001b[0m written_path, _ \u001b[38;5;241m=\u001b[39m \u001b[43murlretrieve\u001b[49m\u001b[43m(\u001b[49m\u001b[43msource_url\u001b[49m\u001b[43m,\u001b[49m\u001b[43m \u001b[49m\u001b[43mpath\u001b[49m\u001b[43m)\u001b[49m\n\u001b[0;32m    230\u001b[0m \u001b[38;5;28;01mreturn\u001b[39;00m written_path\n",
      "File \u001b[1;32mc:\\Users\\shiva\\miniconda3\\envs\\ml2\\Lib\\urllib\\request.py:268\u001b[0m, in \u001b[0;36murlretrieve\u001b[1;34m(url, filename, reporthook, data)\u001b[0m\n\u001b[0;32m    265\u001b[0m \u001b[38;5;28;01mif\u001b[39;00m reporthook:\n\u001b[0;32m    266\u001b[0m     reporthook(blocknum, bs, size)\n\u001b[1;32m--> 268\u001b[0m \u001b[38;5;28;01mwhile\u001b[39;00m block \u001b[38;5;241m:=\u001b[39m \u001b[43mfp\u001b[49m\u001b[38;5;241;43m.\u001b[39;49m\u001b[43mread\u001b[49m\u001b[43m(\u001b[49m\u001b[43mbs\u001b[49m\u001b[43m)\u001b[49m:\n\u001b[0;32m    269\u001b[0m     read \u001b[38;5;241m+\u001b[39m\u001b[38;5;241m=\u001b[39m \u001b[38;5;28mlen\u001b[39m(block)\n\u001b[0;32m    270\u001b[0m     tfp\u001b[38;5;241m.\u001b[39mwrite(block)\n",
      "File \u001b[1;32mc:\\Users\\shiva\\miniconda3\\envs\\ml2\\Lib\\http\\client.py:479\u001b[0m, in \u001b[0;36mHTTPResponse.read\u001b[1;34m(self, amt)\u001b[0m\n\u001b[0;32m    476\u001b[0m \u001b[38;5;28;01mif\u001b[39;00m \u001b[38;5;28mself\u001b[39m\u001b[38;5;241m.\u001b[39mlength \u001b[38;5;129;01mis\u001b[39;00m \u001b[38;5;129;01mnot\u001b[39;00m \u001b[38;5;28;01mNone\u001b[39;00m \u001b[38;5;129;01mand\u001b[39;00m amt \u001b[38;5;241m>\u001b[39m \u001b[38;5;28mself\u001b[39m\u001b[38;5;241m.\u001b[39mlength:\n\u001b[0;32m    477\u001b[0m     \u001b[38;5;66;03m# clip the read to the \"end of response\"\u001b[39;00m\n\u001b[0;32m    478\u001b[0m     amt \u001b[38;5;241m=\u001b[39m \u001b[38;5;28mself\u001b[39m\u001b[38;5;241m.\u001b[39mlength\n\u001b[1;32m--> 479\u001b[0m s \u001b[38;5;241m=\u001b[39m \u001b[38;5;28;43mself\u001b[39;49m\u001b[38;5;241;43m.\u001b[39;49m\u001b[43mfp\u001b[49m\u001b[38;5;241;43m.\u001b[39;49m\u001b[43mread\u001b[49m\u001b[43m(\u001b[49m\u001b[43mamt\u001b[49m\u001b[43m)\u001b[49m\n\u001b[0;32m    480\u001b[0m \u001b[38;5;28;01mif\u001b[39;00m \u001b[38;5;129;01mnot\u001b[39;00m s \u001b[38;5;129;01mand\u001b[39;00m amt:\n\u001b[0;32m    481\u001b[0m     \u001b[38;5;66;03m# Ideally, we would raise IncompleteRead if the content-length\u001b[39;00m\n\u001b[0;32m    482\u001b[0m     \u001b[38;5;66;03m# wasn't satisfied, but it might break compatibility.\u001b[39;00m\n\u001b[0;32m    483\u001b[0m     \u001b[38;5;28mself\u001b[39m\u001b[38;5;241m.\u001b[39m_close_conn()\n",
      "File \u001b[1;32mc:\\Users\\shiva\\miniconda3\\envs\\ml2\\Lib\\socket.py:707\u001b[0m, in \u001b[0;36mSocketIO.readinto\u001b[1;34m(self, b)\u001b[0m\n\u001b[0;32m    705\u001b[0m \u001b[38;5;28;01mwhile\u001b[39;00m \u001b[38;5;28;01mTrue\u001b[39;00m:\n\u001b[0;32m    706\u001b[0m     \u001b[38;5;28;01mtry\u001b[39;00m:\n\u001b[1;32m--> 707\u001b[0m         \u001b[38;5;28;01mreturn\u001b[39;00m \u001b[38;5;28;43mself\u001b[39;49m\u001b[38;5;241;43m.\u001b[39;49m\u001b[43m_sock\u001b[49m\u001b[38;5;241;43m.\u001b[39;49m\u001b[43mrecv_into\u001b[49m\u001b[43m(\u001b[49m\u001b[43mb\u001b[49m\u001b[43m)\u001b[49m\n\u001b[0;32m    708\u001b[0m     \u001b[38;5;28;01mexcept\u001b[39;00m timeout:\n\u001b[0;32m    709\u001b[0m         \u001b[38;5;28mself\u001b[39m\u001b[38;5;241m.\u001b[39m_timeout_occurred \u001b[38;5;241m=\u001b[39m \u001b[38;5;28;01mTrue\u001b[39;00m\n",
      "\u001b[1;31mKeyboardInterrupt\u001b[0m: "
     ]
    }
   ],
   "source": [
    "import arxiv\n",
    "import re\n",
    "import os\n",
    "import tarfile\n",
    "import shutil\n",
    "from tqdm import tqdm\n",
    "\n",
    "# Set the data path\n",
    "data_path = \"data\"\n",
    "os.makedirs(data_path, exist_ok=True)\n",
    "\n",
    "# Define categories\n",
    "categories = [\"astro-ph\", \"cond-mat\", \"gr-qc\", \"hep-th\", \"math-ph\", \"nlin\", \"nucl-th\", \"quant-ph\"]\n",
    "\n",
    "\n",
    "# Function to count the number of equations in a LaTeX source\n",
    "def count_equations(latex_source):\n",
    "    equation_patterns = [\n",
    "        r\"\\\\begin\\{equation\\}\",\n",
    "        r\"\\\\end\\{equation\\}\",\n",
    "        r\"\\$\\$.*?\\$\\$\",\n",
    "        r\"\\\\\\[.*?\\\\\\]\",\n",
    "        r\"\\$.*?\\$\",\n",
    "        r\"\\\\begin\\{align\\}\",\n",
    "        r\"\\\\end\\{align\\}\",\n",
    "    ]\n",
    "    equation_regex = \"|\".join(equation_patterns)\n",
    "    return len(re.findall(equation_regex, latex_source, re.DOTALL))\n",
    "\n",
    "\n",
    "# Function to clean the LaTeX source by removing headers and other details\n",
    "def clean_latex_source(latex_source):\n",
    "    cleaned_source = re.sub(r\"\\\\documentclass.*?\\\\begin\\{document\\}\", \"\", latex_source, flags=re.DOTALL)\n",
    "    cleaned_source = re.sub(r\"\\\\end\\{document\\}\", \"\", cleaned_source, flags=re.DOTALL)\n",
    "    return cleaned_source.strip()\n",
    "\n",
    "\n",
    "# Extract the main LaTeX file from the tar.gz archive\n",
    "def extract_main_latex_file(tar_path, extract_dir):\n",
    "    with tarfile.open(tar_path, \"r:gz\") as tar:\n",
    "        tar.extractall(path=extract_dir)\n",
    "        for member in tar.getmembers():\n",
    "            if member.isfile() and member.name.endswith(\".tex\"):\n",
    "                return os.path.join(extract_dir, member.name)\n",
    "    return None\n",
    "\n",
    "\n",
    "# Fetch and filter papers\n",
    "def fetch_and_filter_papers():\n",
    "    for category in categories:\n",
    "        search = arxiv.Search(\n",
    "            query=category, max_results=100, sort_by=arxiv.SortCriterion.SubmittedDate  # Adjust this number as needed\n",
    "        )\n",
    "        for result in tqdm(search.results()):\n",
    "            try:\n",
    "                print(f\"Downloading {result.title}\")\n",
    "                paper_id = result.entry_id.split(\"/\")[-1]\n",
    "                download_path = os.path.join(data_path, f\"{paper_id}.tar.gz\")\n",
    "                result.download_source(dirpath=data_path, filename=f\"{paper_id}.tar.gz\")\n",
    "                extract_dir = os.path.join(data_path, paper_id)\n",
    "                os.makedirs(extract_dir, exist_ok=True)\n",
    "\n",
    "                filtered_path_folder = os.path.join(data_path, \"latex_files\")\n",
    "                \n",
    "                # Extract the LaTeX source file from the tar.gz\n",
    "                latex_file_path = extract_main_latex_file(download_path, extract_dir)\n",
    "                if latex_file_path:\n",
    "                    with open(latex_file_path, \"r\", encoding=\"utf-8\") as file:\n",
    "                        latex_content = file.read()\n",
    "                        equation_count = count_equations(latex_content)\n",
    "                        if equation_count > 2:  # Adjust threshold as needed\n",
    "                            cleaned_content = clean_latex_source(latex_content)\n",
    "                            filtered_file_path = os.path.join(filtered_path_folder, f\"{paper_id}.tex\")\n",
    "                            with open(filtered_file_path, \"w\", encoding=\"utf-8\") as clean_file:\n",
    "                                clean_file.write(cleaned_content)\n",
    "                            print(f\"Saved {filtered_file_path} with {equation_count} equations\")\n",
    "                    # Clean up the extracted files\n",
    "                    shutil.rmtree(extract_dir)\n",
    "                os.remove(download_path)  # Remove the tar.gz file\n",
    "            except Exception as e:\n",
    "                print(f\"Error processing {result.title}: {e}\")\n",
    "                if os.path.exists(download_path):\n",
    "                    os.remove(download_path)  # Clean up if an error occurs\n",
    "                if os.path.exists(extract_dir):\n",
    "                    shutil.rmtree(extract_dir)  # Clean up if an error occurs\n",
    "\n",
    "\n",
    "fetch_and_filter_papers()"
   ]
  },
  {
   "cell_type": "code",
   "execution_count": null,
   "metadata": {},
   "outputs": [
    {
     "data": {
      "text/plain": [
       "'aa'"
      ]
     },
     "execution_count": 15,
     "metadata": {},
     "output_type": "execute_result"
    }
   ],
   "source": [
    "os.path.join(\"\", \"aa\")"
   ]
  }
 ],
 "metadata": {
  "kernelspec": {
   "display_name": "ml2",
   "language": "python",
   "name": "python3"
  },
  "language_info": {
   "codemirror_mode": {
    "name": "ipython",
    "version": 3
   },
   "file_extension": ".py",
   "mimetype": "text/x-python",
   "name": "python",
   "nbconvert_exporter": "python",
   "pygments_lexer": "ipython3",
   "version": "3.12.3"
  }
 },
 "nbformat": 4,
 "nbformat_minor": 2
}
