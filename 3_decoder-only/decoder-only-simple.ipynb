{
 "cells": [
  {
   "cell_type": "code",
   "execution_count": 1,
   "metadata": {},
   "outputs": [],
   "source": [
    "%load_ext autoreload\n",
    "%autoreload 2"
   ]
  },
  {
   "cell_type": "code",
   "execution_count": 2,
   "metadata": {},
   "outputs": [
    {
     "name": "stdout",
     "output_type": "stream",
     "text": [
      "Using TensorFlow backend\n"
     ]
    }
   ],
   "source": [
    "import tensorflow as tf\n",
    "import numpy as np\n",
    "import os, time, random, math, re, json, string, sys, datetime, textwrap\n",
    "import matplotlib.pyplot as plt\n",
    "from tqdm import tqdm\n",
    "import keras_nlp\n",
    "from tokenizer import *\n",
    "import heapq\n",
    "from collections import Counter"
   ]
  },
  {
   "cell_type": "code",
   "execution_count": 3,
   "metadata": {},
   "outputs": [
    {
     "name": "stdout",
     "output_type": "stream",
     "text": [
      "PhysicalDevice(name='/physical_device:GPU:0', device_type='GPU') memory growth: True\n"
     ]
    }
   ],
   "source": [
    "# gpu growth\n",
    "for gpu in tf.config.experimental.list_physical_devices('GPU'):\n",
    "    tf.config.experimental.set_memory_growth(gpu, True)\n",
    "    print(f'{gpu} memory growth: {tf.config.experimental.get_memory_growth(gpu)}')"
   ]
  },
  {
   "cell_type": "code",
   "execution_count": 4,
   "metadata": {},
   "outputs": [],
   "source": [
    "SEQ_LENGTH = 100"
   ]
  },
  {
   "cell_type": "code",
   "execution_count": 5,
   "metadata": {},
   "outputs": [
    {
     "name": "stdout",
     "output_type": "stream",
     "text": [
      "<tf.RaggedTensor [[32, 66, 167, 12, 109, 110, 175, 197, 4, 7, 4, 10, 4, 17, 8, 54, 6, 141,\n",
      "  45, 58, 194, 56, 174, 47, 45, 206, 46, 4, 24, 230, 17, 35, 11]]> tf.Tensor([b\"Water covers about 71% of the land's surface on Earth because it is polar.\"], shape=(1,), dtype=string)\n"
     ]
    }
   ],
   "source": [
    "texts = open(\"simple.txt\", \"r\").read()\n",
    "\n",
    "\n",
    "# print(len(vocab), vocab)\n",
    "tokenizer = keras_nlp.tokenizers.SentencePieceTokenizer(proto=keras_nlp.tokenizers.compute_sentence_piece_proto(tf.data.Dataset.from_tensor_slices([texts]), vocabulary_size=300))\n",
    "\n",
    "a = tokenizer.tokenize([\"Water covers about 71% of the land's surface on Earth because it is polar.\"])\n",
    "print(a, tokenizer.detokenize(a))"
   ]
  },
  {
   "cell_type": "code",
   "execution_count": 6,
   "metadata": {},
   "outputs": [
    {
     "name": "stdout",
     "output_type": "stream",
     "text": [
      "tf.Tensor(1088, shape=(), dtype=int64)\n",
      "c tf.Tensor(39, shape=(), dtype=int64)\n",
      "(256, 100) (256, 100)\n",
      "(100,) (100,)\n",
      "tf.Tensor(b'ds (consisting of ice and liquid water suspended in air), and precipitation (0.001%).[23][24] Water moves continually through the water cycle of evaporation, transpiration (evapotranspiration), condensation, precipitation, and runoff, usually reaching the sea. Water plays an import', shape=(), dtype=string) tf.Tensor(b'(consisting of ice and liquid water suspended in air), and precipitation (0.001%).[23][24] Water moves continually through the water cycle of evaporation, transpiration (evapotranspiration), condensation, precipitation, and runoff, usually reaching the sea. Water plays an important', shape=(), dtype=string)\n"
     ]
    }
   ],
   "source": [
    "# create ds for training\n",
    "tokenized_texts = tokenizer.tokenize(texts)\n",
    "ds = tf.data.Dataset.from_tensor_slices(tokenized_texts)\n",
    "print(ds.cardinality())\n",
    "ds = ds.batch(SEQ_LENGTH + 1, drop_remainder=True)\n",
    "ds = ds.map(lambda x: (x[:-1], x[1:]))\n",
    "ds = ds.shuffle(10000).repeat(1000)\n",
    "ds = ds.batch(256, drop_remainder=True)\n",
    "ds = ds.prefetch(tf.data.experimental.AUTOTUNE)\n",
    "\n",
    "# example\n",
    "\n",
    "print(\"c\", ds.cardinality())\n",
    "for x, y in ds.take(1):\n",
    "    print(x.shape, y.shape)\n",
    "    print(x[0].shape, y[0].shape)\n",
    "    print(tokenizer.detokenize(x[0]), tokenizer.detokenize(y[0]))"
   ]
  },
  {
   "cell_type": "code",
   "execution_count": 7,
   "metadata": {},
   "outputs": [
    {
     "name": "stdout",
     "output_type": "stream",
     "text": [
      "(None, None)\n",
      "(None, None, 64)\n",
      "(None, 64)\n",
      "Model: \"model\"\n",
      "_________________________________________________________________\n",
      " Layer (type)                Output Shape              Param #   \n",
      "=================================================================\n",
      " token_ids (InputLayer)      [(None, None)]            0         \n",
      "                                                                 \n",
      " token_and_position_embeddin  (None, None, 64)         25600     \n",
      " g (TokenAndPositionEmbeddin                                     \n",
      " g)                                                              \n",
      "                                                                 \n",
      " transformer_decoder (Transf  (None, None, 64)         49984     \n",
      " ormerDecoder)                                                   \n",
      "                                                                 \n",
      " transformer_decoder_1 (Tran  (None, None, 64)         49984     \n",
      " sformerDecoder)                                                 \n",
      "                                                                 \n",
      " tf.__operators__.getitem (S  (None, 64)               0         \n",
      " licingOpLambda)                                                 \n",
      "                                                                 \n",
      " dense_4 (Dense)             (None, 300)               19500     \n",
      "                                                                 \n",
      "=================================================================\n",
      "Total params: 145,068\n",
      "Trainable params: 145,068\n",
      "Non-trainable params: 0\n",
      "_________________________________________________________________\n"
     ]
    }
   ],
   "source": [
    "# create model\n",
    "def create_model():\n",
    "    inp_layer = tf.keras.Input(\n",
    "        shape=(None,),\n",
    "        dtype=\"int32\",\n",
    "        name=\"token_ids\",\n",
    "    )\n",
    "    print(inp_layer.shape)\n",
    "    x = keras_nlp.layers.TokenAndPositionEmbedding(\n",
    "        vocabulary_size=tokenizer.vocabulary_size(),\n",
    "        sequence_length=SEQ_LENGTH,\n",
    "        embedding_dim=64,\n",
    "    )(inp_layer)\n",
    "\n",
    "    print(x.shape)\n",
    "\n",
    "\n",
    "    for _ in range(2):\n",
    "        x = keras_nlp.layers.TransformerDecoder(\n",
    "            intermediate_dim=256,\n",
    "            dropout=0.1,\n",
    "            num_heads=8,\n",
    "        )(x)\n",
    "\n",
    "    # Use \"[START]\" token to classify\n",
    "    x = x[:, 0]\n",
    "    print(x.shape)\n",
    "    # x = tf.keras.layers.Flatten()(x)\n",
    "    x = tf.keras.layers.Dense(tokenizer.vocabulary_size())(x)\n",
    "    model = tf.keras.Model(\n",
    "        inputs=inp_layer,\n",
    "        outputs=x,\n",
    "    )\n",
    "    return model\n",
    "\n",
    "model = create_model()\n",
    "model.summary()"
   ]
  },
  {
   "cell_type": "code",
   "execution_count": null,
   "metadata": {},
   "outputs": [],
   "source": []
  },
  {
   "cell_type": "code",
   "execution_count": 8,
   "metadata": {},
   "outputs": [
    {
     "data": {
      "text/plain": [
       "TensorShape([256, 300])"
      ]
     },
     "execution_count": 8,
     "metadata": {},
     "output_type": "execute_result"
    }
   ],
   "source": [
    "model(tf.zeros((256, SEQ_LENGTH))).shape"
   ]
  },
  {
   "cell_type": "code",
   "execution_count": 9,
   "metadata": {},
   "outputs": [
    {
     "name": "stdout",
     "output_type": "stream",
     "text": [
      "(256, 100) (256, 100) (256, 300)\n"
     ]
    }
   ],
   "source": [
    "for x, y in ds.take(1):\n",
    "    print(x.shape, y.shape, model(x).shape)"
   ]
  },
  {
   "cell_type": "code",
   "execution_count": 10,
   "metadata": {},
   "outputs": [
    {
     "data": {
      "text/plain": [
       "(<tf.Tensor: shape=(256, 100), dtype=int32, numpy=\n",
       " array([[ 39,   4,  49, ...,  21,  11,   4],\n",
       "        [241,   6, 275, ...,  98, 144,  19],\n",
       "        [171,  69,  69, ...,   8, 264, 239],\n",
       "        ...,\n",
       "        [171,  69,  69, ...,   8, 264, 239],\n",
       "        [150,   6, 194, ..., 103, 212,   8],\n",
       "        [165,  60,  59, ..., 136,   5, 148]])>,\n",
       " <tf.Tensor: shape=(256, 100), dtype=int32, numpy=\n",
       " array([[  4,  49, 183, ...,  11,   4, 246],\n",
       "        [  6, 275,  23, ..., 144,  19, 101],\n",
       "        [ 69,  69,  19, ..., 264, 239,  11],\n",
       "        ...,\n",
       "        [ 69,  69,  19, ..., 264, 239,  11],\n",
       "        [  6, 194,  13, ..., 212,   8,  35],\n",
       "        [ 60,  59,  14, ...,   5, 148,  38]])>)"
      ]
     },
     "execution_count": 10,
     "metadata": {},
     "output_type": "execute_result"
    }
   ],
   "source": [
    "next(iter(ds.take(1)))"
   ]
  },
  {
   "cell_type": "code",
   "execution_count": 12,
   "metadata": {},
   "outputs": [
    {
     "name": "stdout",
     "output_type": "stream",
     "text": [
      "Epoch 1/9\n"
     ]
    },
    {
     "ename": "ValueError",
     "evalue": "in user code:\n\n    File \"c:\\Users\\shiva\\miniconda3\\envs\\tf\\lib\\site-packages\\keras\\engine\\training.py\", line 1160, in train_function  *\n        return step_function(self, iterator)\n    File \"<ipython-input-11-1a7d7d58decc>\", line 13, in custom_loss  *\n        loss_val = tf.keras.losses.sparse_categorical_crossentropy(labels, logits, from_logits=True)\n    File \"c:\\Users\\shiva\\miniconda3\\envs\\tf\\lib\\site-packages\\keras\\losses.py\", line 2084, in sparse_categorical_crossentropy\n        return backend.sparse_categorical_crossentropy(\n    File \"c:\\Users\\shiva\\miniconda3\\envs\\tf\\lib\\site-packages\\keras\\backend.py\", line 5630, in sparse_categorical_crossentropy\n        res = tf.nn.sparse_softmax_cross_entropy_with_logits(\n\n    ValueError: `labels.shape` must equal `logits.shape` except for the last dimension. Received: labels.shape=(25600,) and logits.shape=(256, 300)\n",
     "output_type": "error",
     "traceback": [
      "\u001b[1;31m---------------------------------------------------------------------------\u001b[0m",
      "\u001b[1;31mValueError\u001b[0m                                Traceback (most recent call last)",
      "\u001b[1;32m<ipython-input-12-799026877f2c>\u001b[0m in \u001b[0;36m<module>\u001b[1;34m\u001b[0m\n\u001b[0;32m     22\u001b[0m \u001b[1;33m\u001b[0m\u001b[0m\n\u001b[0;32m     23\u001b[0m \u001b[1;31m# model.fit(ds.take(1), epochs=9)\u001b[0m\u001b[1;33m\u001b[0m\u001b[1;33m\u001b[0m\u001b[0m\n\u001b[1;32m---> 24\u001b[1;33m model.fit(\n\u001b[0m\u001b[0;32m     25\u001b[0m     \u001b[0mtf\u001b[0m\u001b[1;33m.\u001b[0m\u001b[0mzeros\u001b[0m\u001b[1;33m(\u001b[0m\u001b[1;33m(\u001b[0m\u001b[1;36m256\u001b[0m\u001b[1;33m,\u001b[0m \u001b[0mSEQ_LENGTH\u001b[0m\u001b[1;33m)\u001b[0m\u001b[1;33m,\u001b[0m \u001b[0mdtype\u001b[0m\u001b[1;33m=\u001b[0m\u001b[1;34m\"int32\"\u001b[0m\u001b[1;33m)\u001b[0m\u001b[1;33m,\u001b[0m \u001b[0mtf\u001b[0m\u001b[1;33m.\u001b[0m\u001b[0mzeros\u001b[0m\u001b[1;33m(\u001b[0m\u001b[1;33m(\u001b[0m\u001b[1;36m256\u001b[0m\u001b[1;33m,\u001b[0m \u001b[0mSEQ_LENGTH\u001b[0m\u001b[1;33m)\u001b[0m\u001b[1;33m,\u001b[0m \u001b[0mdtype\u001b[0m\u001b[1;33m=\u001b[0m\u001b[1;34m\"int32\"\u001b[0m\u001b[1;33m)\u001b[0m\u001b[1;33m,\u001b[0m \u001b[0mepochs\u001b[0m\u001b[1;33m=\u001b[0m\u001b[1;36m9\u001b[0m\u001b[1;33m,\u001b[0m \u001b[0mbatch_size\u001b[0m\u001b[1;33m=\u001b[0m\u001b[1;36m256\u001b[0m\u001b[1;33m\u001b[0m\u001b[1;33m\u001b[0m\u001b[0m\n\u001b[0;32m     26\u001b[0m )\n",
      "\u001b[1;32mc:\\Users\\shiva\\miniconda3\\envs\\tf\\lib\\site-packages\\keras\\utils\\traceback_utils.py\u001b[0m in \u001b[0;36merror_handler\u001b[1;34m(*args, **kwargs)\u001b[0m\n\u001b[0;32m     68\u001b[0m             \u001b[1;31m# To get the full stack trace, call:\u001b[0m\u001b[1;33m\u001b[0m\u001b[1;33m\u001b[0m\u001b[0m\n\u001b[0;32m     69\u001b[0m             \u001b[1;31m# `tf.debugging.disable_traceback_filtering()`\u001b[0m\u001b[1;33m\u001b[0m\u001b[1;33m\u001b[0m\u001b[0m\n\u001b[1;32m---> 70\u001b[1;33m             \u001b[1;32mraise\u001b[0m \u001b[0me\u001b[0m\u001b[1;33m.\u001b[0m\u001b[0mwith_traceback\u001b[0m\u001b[1;33m(\u001b[0m\u001b[0mfiltered_tb\u001b[0m\u001b[1;33m)\u001b[0m \u001b[1;32mfrom\u001b[0m \u001b[1;32mNone\u001b[0m\u001b[1;33m\u001b[0m\u001b[1;33m\u001b[0m\u001b[0m\n\u001b[0m\u001b[0;32m     71\u001b[0m         \u001b[1;32mfinally\u001b[0m\u001b[1;33m:\u001b[0m\u001b[1;33m\u001b[0m\u001b[1;33m\u001b[0m\u001b[0m\n\u001b[0;32m     72\u001b[0m             \u001b[1;32mdel\u001b[0m \u001b[0mfiltered_tb\u001b[0m\u001b[1;33m\u001b[0m\u001b[1;33m\u001b[0m\u001b[0m\n",
      "\u001b[1;32mc:\\Users\\shiva\\miniconda3\\envs\\tf\\lib\\site-packages\\keras\\engine\\training.py\u001b[0m in \u001b[0;36mtf__train_function\u001b[1;34m(iterator)\u001b[0m\n\u001b[0;32m     13\u001b[0m                 \u001b[1;32mtry\u001b[0m\u001b[1;33m:\u001b[0m\u001b[1;33m\u001b[0m\u001b[1;33m\u001b[0m\u001b[0m\n\u001b[0;32m     14\u001b[0m                     \u001b[0mdo_return\u001b[0m \u001b[1;33m=\u001b[0m \u001b[1;32mTrue\u001b[0m\u001b[1;33m\u001b[0m\u001b[1;33m\u001b[0m\u001b[0m\n\u001b[1;32m---> 15\u001b[1;33m                     \u001b[0mretval_\u001b[0m \u001b[1;33m=\u001b[0m \u001b[0mag__\u001b[0m\u001b[1;33m.\u001b[0m\u001b[0mconverted_call\u001b[0m\u001b[1;33m(\u001b[0m\u001b[0mag__\u001b[0m\u001b[1;33m.\u001b[0m\u001b[0mld\u001b[0m\u001b[1;33m(\u001b[0m\u001b[0mstep_function\u001b[0m\u001b[1;33m)\u001b[0m\u001b[1;33m,\u001b[0m \u001b[1;33m(\u001b[0m\u001b[0mag__\u001b[0m\u001b[1;33m.\u001b[0m\u001b[0mld\u001b[0m\u001b[1;33m(\u001b[0m\u001b[0mself\u001b[0m\u001b[1;33m)\u001b[0m\u001b[1;33m,\u001b[0m \u001b[0mag__\u001b[0m\u001b[1;33m.\u001b[0m\u001b[0mld\u001b[0m\u001b[1;33m(\u001b[0m\u001b[0miterator\u001b[0m\u001b[1;33m)\u001b[0m\u001b[1;33m)\u001b[0m\u001b[1;33m,\u001b[0m \u001b[1;32mNone\u001b[0m\u001b[1;33m,\u001b[0m \u001b[0mfscope\u001b[0m\u001b[1;33m)\u001b[0m\u001b[1;33m\u001b[0m\u001b[1;33m\u001b[0m\u001b[0m\n\u001b[0m\u001b[0;32m     16\u001b[0m                 \u001b[1;32mexcept\u001b[0m\u001b[1;33m:\u001b[0m\u001b[1;33m\u001b[0m\u001b[1;33m\u001b[0m\u001b[0m\n\u001b[0;32m     17\u001b[0m                     \u001b[0mdo_return\u001b[0m \u001b[1;33m=\u001b[0m \u001b[1;32mFalse\u001b[0m\u001b[1;33m\u001b[0m\u001b[1;33m\u001b[0m\u001b[0m\n",
      "\u001b[1;32m~\\AppData\\Local\\Temp\\__autograph_generated_filesilop3oj.py\u001b[0m in \u001b[0;36mtf__custom_loss\u001b[1;34m(labels, logits)\u001b[0m\n\u001b[0;32m      8\u001b[0m                 \u001b[0mdo_return\u001b[0m \u001b[1;33m=\u001b[0m \u001b[1;32mFalse\u001b[0m\u001b[1;33m\u001b[0m\u001b[1;33m\u001b[0m\u001b[0m\n\u001b[0;32m      9\u001b[0m                 \u001b[0mretval_\u001b[0m \u001b[1;33m=\u001b[0m \u001b[0mag__\u001b[0m\u001b[1;33m.\u001b[0m\u001b[0mUndefinedReturnValue\u001b[0m\u001b[1;33m(\u001b[0m\u001b[1;33m)\u001b[0m\u001b[1;33m\u001b[0m\u001b[1;33m\u001b[0m\u001b[0m\n\u001b[1;32m---> 10\u001b[1;33m                 \u001b[0mloss_val\u001b[0m \u001b[1;33m=\u001b[0m \u001b[0mag__\u001b[0m\u001b[1;33m.\u001b[0m\u001b[0mconverted_call\u001b[0m\u001b[1;33m(\u001b[0m\u001b[0mag__\u001b[0m\u001b[1;33m.\u001b[0m\u001b[0mld\u001b[0m\u001b[1;33m(\u001b[0m\u001b[0mtf\u001b[0m\u001b[1;33m)\u001b[0m\u001b[1;33m.\u001b[0m\u001b[0mkeras\u001b[0m\u001b[1;33m.\u001b[0m\u001b[0mlosses\u001b[0m\u001b[1;33m.\u001b[0m\u001b[0msparse_categorical_crossentropy\u001b[0m\u001b[1;33m,\u001b[0m \u001b[1;33m(\u001b[0m\u001b[0mag__\u001b[0m\u001b[1;33m.\u001b[0m\u001b[0mld\u001b[0m\u001b[1;33m(\u001b[0m\u001b[0mlabels\u001b[0m\u001b[1;33m)\u001b[0m\u001b[1;33m,\u001b[0m \u001b[0mag__\u001b[0m\u001b[1;33m.\u001b[0m\u001b[0mld\u001b[0m\u001b[1;33m(\u001b[0m\u001b[0mlogits\u001b[0m\u001b[1;33m)\u001b[0m\u001b[1;33m)\u001b[0m\u001b[1;33m,\u001b[0m \u001b[0mdict\u001b[0m\u001b[1;33m(\u001b[0m\u001b[0mfrom_logits\u001b[0m\u001b[1;33m=\u001b[0m\u001b[1;32mTrue\u001b[0m\u001b[1;33m)\u001b[0m\u001b[1;33m,\u001b[0m \u001b[0mfscope\u001b[0m\u001b[1;33m)\u001b[0m\u001b[1;33m\u001b[0m\u001b[1;33m\u001b[0m\u001b[0m\n\u001b[0m\u001b[0;32m     11\u001b[0m                 \u001b[0mloss_val\u001b[0m \u001b[1;33m=\u001b[0m \u001b[0mag__\u001b[0m\u001b[1;33m.\u001b[0m\u001b[0mconverted_call\u001b[0m\u001b[1;33m(\u001b[0m\u001b[0mag__\u001b[0m\u001b[1;33m.\u001b[0m\u001b[0mld\u001b[0m\u001b[1;33m(\u001b[0m\u001b[0mtf\u001b[0m\u001b[1;33m)\u001b[0m\u001b[1;33m.\u001b[0m\u001b[0mclip_by_value\u001b[0m\u001b[1;33m,\u001b[0m \u001b[1;33m(\u001b[0m\u001b[0mag__\u001b[0m\u001b[1;33m.\u001b[0m\u001b[0mld\u001b[0m\u001b[1;33m(\u001b[0m\u001b[0mloss_val\u001b[0m\u001b[1;33m)\u001b[0m\u001b[1;33m,\u001b[0m\u001b[1;33m)\u001b[0m\u001b[1;33m,\u001b[0m \u001b[0mdict\u001b[0m\u001b[1;33m(\u001b[0m\u001b[0mclip_value_min\u001b[0m\u001b[1;33m=\u001b[0m\u001b[1;33m-\u001b[0m\u001b[1;36m1000.0\u001b[0m\u001b[1;33m,\u001b[0m \u001b[0mclip_value_max\u001b[0m\u001b[1;33m=\u001b[0m\u001b[1;36m2000.0\u001b[0m\u001b[1;33m)\u001b[0m\u001b[1;33m,\u001b[0m \u001b[0mfscope\u001b[0m\u001b[1;33m)\u001b[0m\u001b[1;33m\u001b[0m\u001b[1;33m\u001b[0m\u001b[0m\n\u001b[0;32m     12\u001b[0m                 \u001b[1;32mtry\u001b[0m\u001b[1;33m:\u001b[0m\u001b[1;33m\u001b[0m\u001b[1;33m\u001b[0m\u001b[0m\n",
      "\u001b[1;31mValueError\u001b[0m: in user code:\n\n    File \"c:\\Users\\shiva\\miniconda3\\envs\\tf\\lib\\site-packages\\keras\\engine\\training.py\", line 1160, in train_function  *\n        return step_function(self, iterator)\n    File \"<ipython-input-11-1a7d7d58decc>\", line 13, in custom_loss  *\n        loss_val = tf.keras.losses.sparse_categorical_crossentropy(labels, logits, from_logits=True)\n    File \"c:\\Users\\shiva\\miniconda3\\envs\\tf\\lib\\site-packages\\keras\\losses.py\", line 2084, in sparse_categorical_crossentropy\n        return backend.sparse_categorical_crossentropy(\n    File \"c:\\Users\\shiva\\miniconda3\\envs\\tf\\lib\\site-packages\\keras\\backend.py\", line 5630, in sparse_categorical_crossentropy\n        res = tf.nn.sparse_softmax_cross_entropy_with_logits(\n\n    ValueError: `labels.shape` must equal `logits.shape` except for the last dimension. Received: labels.shape=(25600,) and logits.shape=(256, 300)\n"
     ]
    }
   ],
   "source": [
    "# train\n",
    "\n",
    "\n",
    "# def custom_loss(y_true, y_pred):\n",
    "#     # return tf.keras.losses.sparse_categorical_crossentropy(y_true, y_pred, from_logits=True)\n",
    "#     y_true = tf.one_hot(y_true, y_pred.shape[-1])\n",
    "#     print(y_true.shape, y_pred.shape)\n",
    "#     return tf.keras.losses.categorical_crossentropy(y_true, y_pred, from_logits=True)\n",
    "\n",
    "\n",
    "def custom_loss(labels, logits):\n",
    "    # scce but capped at 2000.0 to avoid exploding gradients\n",
    "    loss_val = tf.keras.losses.sparse_categorical_crossentropy(labels, logits, from_logits=True)\n",
    "    loss_val = tf.clip_by_value(loss_val, clip_value_min=-1000.0, clip_value_max=2000.0)\n",
    "    return tf.reduce_mean(loss_val)\n",
    "\n",
    "model.compile(\n",
    "    optimizer=tf.keras.optimizers.Adam(),\n",
    "    loss=custom_loss,\n",
    "    metrics=[\"accuracy\"],\n",
    ")\n",
    "\n",
    "# model.fit(ds.take(1), epochs=9)\n",
    "model.fit(\n",
    "    tf.zeros((256, SEQ_LENGTH), dtype=\"int32\"), tf.zeros((256, SEQ_LENGTH), dtype=\"int32\"), epochs=9, batch_size=256\n",
    ")"
   ]
  },
  {
   "cell_type": "code",
   "execution_count": null,
   "metadata": {},
   "outputs": [],
   "source": [
    "a = tf.data.Dataset.from_tensor_slices(tf.range(1000)).batch(101, drop_remainder=True).map(lambda x: (x[:-1], x[1:])).shuffle(10000).repeat(100).batch(32, drop_remainder=True)"
   ]
  },
  {
   "cell_type": "code",
   "execution_count": null,
   "metadata": {},
   "outputs": [
    {
     "data": {
      "text/plain": [
       "(<tf.Tensor: shape=(32, 100), dtype=int32, numpy=\n",
       " array([[  0,   1,   2, ...,  97,  98,  99],\n",
       "        [808, 809, 810, ..., 905, 906, 907],\n",
       "        [404, 405, 406, ..., 501, 502, 503],\n",
       "        ...,\n",
       "        [  0,   1,   2, ...,  97,  98,  99],\n",
       "        [606, 607, 608, ..., 703, 704, 705],\n",
       "        [202, 203, 204, ..., 299, 300, 301]])>,\n",
       " <tf.Tensor: shape=(32, 100), dtype=int32, numpy=\n",
       " array([[  1,   2,   3, ...,  98,  99, 100],\n",
       "        [809, 810, 811, ..., 906, 907, 908],\n",
       "        [405, 406, 407, ..., 502, 503, 504],\n",
       "        ...,\n",
       "        [  1,   2,   3, ...,  98,  99, 100],\n",
       "        [607, 608, 609, ..., 704, 705, 706],\n",
       "        [203, 204, 205, ..., 300, 301, 302]])>)"
      ]
     },
     "execution_count": 61,
     "metadata": {},
     "output_type": "execute_result"
    }
   ],
   "source": [
    "next(iter(a.take(13)))"
   ]
  }
 ],
 "metadata": {
  "kernelspec": {
   "display_name": "tf",
   "language": "python",
   "name": "python3"
  },
  "language_info": {
   "codemirror_mode": {
    "name": "ipython",
    "version": 3
   },
   "file_extension": ".py",
   "mimetype": "text/x-python",
   "name": "python",
   "nbconvert_exporter": "python",
   "pygments_lexer": "ipython3",
   "version": "3.9.13"
  },
  "orig_nbformat": 4
 },
 "nbformat": 4,
 "nbformat_minor": 2
}
