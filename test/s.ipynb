{
 "cells": [
  {
   "cell_type": "code",
   "execution_count": 15,
   "metadata": {},
   "outputs": [],
   "source": [
    "# problem 1\n",
    "class Header:\n",
    "\tdef __init__(self, a, b, c, d, e):\n",
    "\t\tself.headline, self.author, self.day, self.month, self.year = a, b, c, d, e\n",
    "\tdef forgot_method_name(self, v):\n",
    "\t\treturn f\"{self.headline} {self.author if not v else 'Anonymous'} {self.day} {self.month} {self.year} \"\n"
   ]
  },
  {
   "cell_type": "code",
   "execution_count": 16,
   "metadata": {},
   "outputs": [
    {
     "data": {
      "text/plain": [
       "'b'"
      ]
     },
     "execution_count": 16,
     "metadata": {},
     "output_type": "execute_result"
    }
   ],
   "source": [
    "# problem 2\n",
    "# takes in a list of headers and returns the author with the most headers in the list\n",
    "def find_most_prolific(l):\n",
    "    d = {}\n",
    "    for h in l:\n",
    "        if h.author in d:\n",
    "            d[h.author] += 1\n",
    "        else:\n",
    "            d[h.author] = 1\n",
    "    return max(d, key=d.get)\n",
    "\n",
    "# test it\n",
    "h1 = Header(\"a\", \"b\", \"c\", \"d\", \"e\")\n",
    "h2 = Header(\"a\", \"b2\", \"c\", \"d\", \"e\")\n",
    "h3 = Header(\"a\", \"b\", \"c\", \"d\", \"e\")\n",
    "find_most_prolific([h1, h2, h3]) # should return \"b\""
   ]
  },
  {
   "cell_type": "code",
   "execution_count": 17,
   "metadata": {},
   "outputs": [
    {
     "name": "stdout",
     "output_type": "stream",
     "text": [
      "__LL_ ___L_\n",
      "H_LL_ ___L_\n",
      "H____ _____\n"
     ]
    }
   ],
   "source": [
    "# problem 3\n",
    "\"\"\"\n",
    "forgot_method_name(\"_____ _____\", \"HELLO WORLD\", \"L\") -> \"__LL_ ___L_\"\n",
    "forgot_method_name(\"__LL_ ___L_\", \"HELLO WORLD\", \"H\") -> \"H_LL_ ___L_\"\n",
    "forgot_method_name(\"_____ _____\", \"HELLO WORLD\", \"H\") -> \"H____ _____\"\n",
    "\"\"\"\n",
    "\n",
    "def reveal_character(mask: str, original: str, char: str) -> str:\n",
    "    # Convert both mask and original to lists to manipulate them\n",
    "    mask_list = list(mask)\n",
    "    original_list = list(original)\n",
    "    \n",
    "    # Iterate over the characters in the original string\n",
    "    for i in range(len(original_list)):\n",
    "        # If the character in the original string matches the given character\n",
    "        if original_list[i] == char:\n",
    "            # Update the corresponding position in the mask list\n",
    "            mask_list[i] = char\n",
    "    \n",
    "    # Convert the list back to a string and return\n",
    "    return ''.join(mask_list)\n",
    "\n",
    "# Testing the function with the given examples\n",
    "print(reveal_character(\"_____ _____\", \"HELLO WORLD\", \"L\"))  # \"__LL_ ___L_\"\n",
    "print(reveal_character(\"__LL_ ___L_\", \"HELLO WORLD\", \"H\"))  # \"H_LL_ ___L_\"\n",
    "print(reveal_character(\"_____ _____\", \"HELLO WORLD\", \"H\"))  # \"H____ _____\"\n"
   ]
  },
  {
   "cell_type": "code",
   "execution_count": 18,
   "metadata": {},
   "outputs": [
    {
     "name": "stdout",
     "output_type": "stream",
     "text": [
      "[1, 2, 3, 4, 5, 6, 7, 8, 9]\n",
      "[90, 41, 22, 23, 45, 67, 89]\n"
     ]
    }
   ],
   "source": [
    "# problem 4\n",
    "\"\"\"\n",
    "sort a list of numbers by digits in reverse order of place value\n",
    "examples:\n",
    "forgot_method_name([1, 2, 3, 4, 5, 6, 7, 8, 9]) -> [1, 2, 3, 4, 5, 6, 7, 8, 9]\n",
    "forgot_method_name([23, 22, 45, 41, 67, 89, 90]) -> [90, 41, 22, 23, 67, 89, 45]\n",
    "\"\"\"\n",
    "\n",
    "def sort_by_reverse_place_value(nums):\n",
    "    # Define a helper function to convert a number into its digits in reverse order\n",
    "    def reverse_digits(num):\n",
    "        return list(map(int, str(num)[::-1]))\n",
    "    \n",
    "    # Sort the list using the reverse_digits function as the key\n",
    "    sorted_nums = sorted(nums, key=reverse_digits)\n",
    "    \n",
    "    return sorted_nums\n",
    "\n",
    "# Testing the function with the given examples\n",
    "print(sort_by_reverse_place_value([1, 2, 3, 4, 5, 6, 7, 8, 9]))  # [1, 2, 3, 4, 5, 6, 7, 8, 9]\n",
    "print(sort_by_reverse_place_value([23, 22, 45, 41, 67, 89, 90]))  # [90, 41, 22, 23, 45, 67, 89]"
   ]
  },
  {
   "cell_type": "code",
   "execution_count": 20,
   "metadata": {},
   "outputs": [
    {
     "name": "stdout",
     "output_type": "stream",
     "text": [
      "EBIIL TLOIA\n",
      "HELLO WORLD\n"
     ]
    }
   ],
   "source": [
    "# problem 5\n",
    "\"\"\"\n",
    "caesar cipher\n",
    "Examples:\n",
    "reverse_caesar(\"HELLO WORLD\", 3) -> \"EBIIL TLOIA\"\n",
    "\"\"\"\n",
    "def reverse_caesar(text, shift):\n",
    "    result = []\n",
    "    \n",
    "    for char in text:\n",
    "        if char.isalpha():  # Only shift alphabetic characters\n",
    "            shift_amount = shift % 26\n",
    "            if char.isupper():\n",
    "                # Calculate the new character, wrapping around the alphabet if necessary\n",
    "                new_char = chr((ord(char) - shift_amount - 65) % 26 + 65)\n",
    "            else:\n",
    "                new_char = chr((ord(char) - shift_amount - 97) % 26 + 97)\n",
    "            result.append(new_char)\n",
    "        else:\n",
    "            result.append(char)  # Non-alphabetic characters are not shifted\n",
    "\n",
    "    return ''.join(result)\n",
    "\n",
    "# Testing the function with the given example\n",
    "print(reverse_caesar(\"HELLO WORLD\", 3))  # \"EBIIL TLOIA\"\n",
    "print(reverse_caesar(\"JGNNQ YQTNF\", 2))  # \"HELLO WORLD\""
   ]
  },
  {
   "cell_type": "code",
   "execution_count": 21,
   "metadata": {},
   "outputs": [
    {
     "name": "stdout",
     "output_type": "stream",
     "text": [
      "[6, -1, 3]\n"
     ]
    }
   ],
   "source": [
    "# problem 6\n",
    "\"\"\"\n",
    "takes in a list of numbers a and a list of operations b\n",
    "b is a 3-tuple (op, val, index)\n",
    "for each tuple in b, apply the operation op to the number at index index with val\n",
    "ex. a = [1, 2, 3], b = [(\"+\", 5, 0), (\"-\", 3, 1)] -> [6, -1, 3]\n",
    "\"\"\"\n",
    "def apply_operations(a, b):\n",
    "    for op, val, index in b:\n",
    "        if op == \"+\":\n",
    "            a[index] += val\n",
    "        elif op == \"-\":\n",
    "            a[index] -= val\n",
    "        elif op == \"*\":\n",
    "            a[index] *= val\n",
    "    return a\n",
    "\n",
    "# Testing the function with the given example\n",
    "print(apply_operations([1, 2, 3], [(\"+\", 5, 0), (\"-\", 3, 1)]))  # [6, -1, 3]\n"
   ]
  },
  {
   "cell_type": "code",
   "execution_count": 24,
   "metadata": {},
   "outputs": [
    {
     "name": "stdout",
     "output_type": "stream",
     "text": [
      "2\n",
      "3\n",
      "5\n"
     ]
    }
   ],
   "source": [
    "# problem 7\n",
    "\"\"\"\n",
    "special fibbonaci sequence where instead of starting with 1 and 1, it starts with a and b\n",
    "special_fib(n,a,b)\n",
    "ex. special_fib(1,2,3) -> 2\n",
    "ex. special_fib(2,2,3) -> 3\n",
    "ex. special_fib(3,2,3) -> 5\n",
    "\"\"\"\n",
    "def special_fib(n, a, b):\n",
    "    if n == 1:\n",
    "        return a\n",
    "    elif n == 2:\n",
    "        return b\n",
    "    else:\n",
    "        return special_fib(n-1, a, b) + special_fib(n-2, a, b)\n",
    "    \n",
    "# Testing the function with the given examples\n",
    "print(special_fib(1, 2, 3))  # 2\n",
    "print(special_fib(2, 2, 3))  # 3\n",
    "print(special_fib(3, 2, 3))  # 5"
   ]
  },
  {
   "cell_type": "code",
   "execution_count": 26,
   "metadata": {},
   "outputs": [
    {
     "name": "stdout",
     "output_type": "stream",
     "text": [
      "43\n",
      "Item not found: grape\n"
     ]
    }
   ],
   "source": [
    "# problem 8\n",
    "\"\"\"\n",
    "take dictionary of item to price named a and order dictionary of item to quantity named and return the total cost\n",
    "but if the item is not in a, return string \"Item not found: {item}\"\n",
    "\"\"\"\n",
    "def calculate_total_cost(prices, order):\n",
    "    total_cost = 0\n",
    "    for item, quantity in order.items():\n",
    "        if item not in prices:\n",
    "            return f\"Item not found: {item}\"\n",
    "        total_cost += prices[item] * quantity\n",
    "    return total_cost\n",
    "\n",
    "# Example usage\n",
    "prices = {\n",
    "    \"apple\": 10,\n",
    "    \"banana\": 5,\n",
    "    \"orange\": 8\n",
    "}\n",
    "\n",
    "order = {\n",
    "    \"apple\": 2,\n",
    "    \"banana\": 3,\n",
    "    \"orange\": 1\n",
    "}\n",
    "\n",
    "order_with_unknown_item = {\n",
    "    \"apple\": 2,\n",
    "    \"banana\": 3,\n",
    "    \"grape\": 1\n",
    "}\n",
    "\n",
    "print(calculate_total_cost(prices, order))  # Expected output: 43\n",
    "print(calculate_total_cost(prices, order_with_unknown_item))  # Expected output: \"Item not found: grape\"\n"
   ]
  }
 ],
 "metadata": {
  "kernelspec": {
   "display_name": "Python 3",
   "language": "python",
   "name": "python3"
  },
  "language_info": {
   "codemirror_mode": {
    "name": "ipython",
    "version": 3
   },
   "file_extension": ".py",
   "mimetype": "text/x-python",
   "name": "python",
   "nbconvert_exporter": "python",
   "pygments_lexer": "ipython3",
   "version": "3.9.13"
  }
 },
 "nbformat": 4,
 "nbformat_minor": 2
}
